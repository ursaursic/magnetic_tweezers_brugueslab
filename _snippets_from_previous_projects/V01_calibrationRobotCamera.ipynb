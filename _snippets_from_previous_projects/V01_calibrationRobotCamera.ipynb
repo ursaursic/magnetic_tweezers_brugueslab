{
 "cells": [
  {
   "cell_type": "code",
   "execution_count": 16,
   "id": "94818818",
   "metadata": {},
   "outputs": [
    {
     "name": "stdout",
     "output_type": "stream",
     "text": [
      "[2022-05-09 08:20:13.597] [error] [t=67704] /home/patrick/development/3rdparty/Azure-Kinect-Sensor-SDK/src/usbcommand/usbcommand.c (748): usb_cmd_io(). Error calling libusb_bulk_transfer for initial tx, result:LIBUSB_ERROR_NO_DEVICE\n",
      "[2022-05-09 08:20:13.597] [error] [t=67704] /home/patrick/development/3rdparty/Azure-Kinect-Sensor-SDK/src/usbcommand/usbcommand.c (950): usb_cmd_io(usbcmd_handle, cmd, p_cmd_data, cmd_data_size, NULL, 0, p_data, data_size, NULL, cmd_status) returned failure in usb_cmd_write_with_status()\n",
      "[2022-05-09 08:20:13.597] [error] [t=67704] /home/patrick/development/3rdparty/Azure-Kinect-Sensor-SDK/src/depth_mcu/depth_mcu.c (355): usb_cmd_write_with_status(depthmcu->usb_cmd, DEV_CMD_DEPTH_STREAM_STOP, NULL, 0, NULL, 0, &cmd_status) returned failure in depthmcu_depth_stop_streaming()\n",
      "[2022-05-09 08:20:13.597] [error] [t=67704] /home/patrick/development/3rdparty/Azure-Kinect-Sensor-SDK/src/usbcommand/usbcommand.c (748): usb_cmd_io(). Error calling libusb_bulk_transfer for initial tx, result:LIBUSB_ERROR_NO_DEVICE\n",
      "[2022-05-09 08:20:13.597] [error] [t=67704] /home/patrick/development/3rdparty/Azure-Kinect-Sensor-SDK/src/usbcommand/usbcommand.c (950): usb_cmd_io(usbcmd_handle, cmd, p_cmd_data, cmd_data_size, NULL, 0, p_data, data_size, NULL, cmd_status) returned failure in usb_cmd_write_with_status()\n",
      "[2022-05-09 08:20:13.597] [error] [t=67704] /home/patrick/development/3rdparty/Azure-Kinect-Sensor-SDK/src/depth_mcu/depth_mcu.c (367): usb_cmd_write_with_status(depthmcu->usb_cmd, DEV_CMD_DEPTH_STOP, NULL, 0, NULL, 0, &cmd_status) returned failure in depthmcu_depth_stop_streaming()\n",
      "[2022-05-09 08:20:13.624] [error] [t=67704] /home/patrick/development/3rdparty/Azure-Kinect-Sensor-SDK/src/usbcommand/usbcommand.c (30): TraceLibUsbError(). /home/patrick/development/3rdparty/Azure-Kinect-Sensor-SDK/src/usbcommand/usbcommand.c (495): libusb_release_interface(usbcmd->libusb, usbcmd->interface) returned LIBUSB_ERROR_NO_DEVICE in usb_cmd_destroy \n",
      "\n",
      "\n",
      "Success with connecting to camera.\n",
      "[2022-05-09 08:20:13.624] [error] [t=67704] /home/patrick/development/3rdparty/Azure-Kinect-Sensor-SDK/src/usbcommand/usbcommand.c (30): TraceLibUsbError(). /home/patrick/development/3rdparty/Azure-Kinect-Sensor-SDK/src/usbcommand/usbcommand.c (495): libusb_release_interface(usbcmd->libusb, usbcmd->interface) returned LIBUSB_ERROR_NO_DEVICE in usb_cmd_destroy \n",
      "The autoreload extension is already loaded. To reload it, use:\n",
      "  %reload_ext autoreload\n"
     ]
    }
   ],
   "source": [
    "%matplotlib tk\n",
    "import matplotlib.pyplot as plt\n",
    "import numpy as np\n",
    "import pickle\n",
    "\n",
    "from cameraRobotCalibration import *\n",
    "\n",
    "import time\n",
    "\n",
    "\n",
    "from wandelpy.azurekinect2 import AzureKinect, Camera \n",
    "try:\n",
    "    kinect = AzureKinect() \n",
    "    print(\"\\n\\nSuccess with connecting to camera.\")\n",
    "except:\n",
    "    time.sleep(1)\n",
    "    print(\"Camera couldn't be connected. Use the notebook with loading captures.\")\n",
    "    \n",
    "    \n",
    "    \n",
    "# To autoreload imported libraries:    \n",
    "%load_ext autoreload\n",
    "%autoreload 2"
   ]
  },
  {
   "cell_type": "code",
   "execution_count": 7,
   "id": "f7ff05fa",
   "metadata": {},
   "outputs": [
    {
     "name": "stdout",
     "output_type": "stream",
     "text": [
      "File V2_cardboard_03.pkl loaded.\n"
     ]
    }
   ],
   "source": [
    "# Either load a capture\n",
    "# Load the captures:\n",
    "fileLoad = 'test2.pkl'   # 2 completely different images\n",
    "fileLoad = 'set2.pkl'    # Images with one object difference - direciton into a corner\n",
    "fileLoad = 'cell1.pkl'    # Image in the cell - Bumpy metal piece\n",
    "fileLoad = 'cell2.pkl'    # Image in the cell - Thick wooden piece\n",
    "fileLoad = 'cell3.pkl'    # Image in the cell - Thin wooden plank\n",
    "fileLoad = 'cell4.pkl'    # Image in the cell - Thin wooden plank - at an angle\n",
    "\n",
    "# V2: means the sCapture was updated - to have color_depth2d and depth3d\n",
    "fileLoad = 'V2_cardboard_01.pkl'    # Cardboard box with a stick-it note \n",
    "fileLoad = 'V2_cardboard_02.pkl'    # L-shaped box with 3 stick-it notes \n",
    "fileLoad = 'V2_cardboard_03.pkl'    # Camera angled - Zigzag shaped box with 3 stick-it notes \n",
    "\n",
    "\n",
    "fileLoad = 'V2_cardboard_03.pkl'\n",
    "\n",
    "\n",
    "# fileLoad = 'set1.pkl'    # Images with one object difference\n",
    "with open(fileLoad, 'rb') as fileIn:\n",
    "    sCapture1, sCapture2 = pickle.load(fileIn)\n",
    "\n",
    "print(f'File {fileLoad} loaded.')\n",
    "\n",
    "sCapture_Calibration = sCapture2"
   ]
  },
  {
   "cell_type": "code",
   "execution_count": 17,
   "id": "20c1ef8d",
   "metadata": {},
   "outputs": [],
   "source": [
    "# Or capture an image:\n",
    "#TODO: test it\n",
    "capture = kinect() \n",
    "sCapture_Calibration = simplifiedCapture(capture)"
   ]
  },
  {
   "cell_type": "code",
   "execution_count": 18,
   "id": "a65a2360",
   "metadata": {},
   "outputs": [
    {
     "name": "stderr",
     "output_type": "stream",
     "text": [
      "INFO - 2022-05-09 08:20:39,710 - blocking_input - Event 1\n",
      "INFO - 2022-05-09 08:20:39,711 - blocking_input - input 1: 244.925211, 267.631310\n",
      "INFO - 2022-05-09 08:20:42,837 - blocking_input - Event 1\n",
      "INFO - 2022-05-09 08:20:42,837 - blocking_input - input 1: 370.880570, 263.791208\n",
      "INFO - 2022-05-09 08:20:47,280 - blocking_input - Event 1\n",
      "INFO - 2022-05-09 08:20:47,280 - blocking_input - input 1: 245.693232, 167.788648\n"
     ]
    },
    {
     "name": "stdout",
     "output_type": "stream",
     "text": [
      "pixel coordinates of clicked points:\n",
      "[[268, 245], [264, 371], [168, 246]]\n",
      "3D coordinates of clicked points:\n",
      "[[-153 -141 1037]\n",
      " [ 110 -150 1044]\n",
      " [-152 -351 1008]]\n",
      "_______________________________ Copy between lines __________________________________\n",
      "int16 = np.int16\n",
      "\n",
      "# Calibration points in image - for preview\n",
      "calibrationPointsImg_CS = [[268, 245], [264, 371], [168, 246]] \n",
      "\n",
      "# Calibration points in Camera system (in order: O, X, Y)\n",
      "calibrationPoints3D_CS = np.array([[-153, -141, 1037],\n",
      "       [ 110, -150, 1044],\n",
      "       [-152, -351, 1008]], dtype=int16)\n",
      "_____________________________________________________________________________________\n"
     ]
    },
    {
     "name": "stderr",
     "output_type": "stream",
     "text": [
      "Exception in Tkinter callback\n",
      "Traceback (most recent call last):\n",
      "  File \"/usr/lib/python3.8/tkinter/__init__.py\", line 1892, in __call__\n",
      "    return self.func(*args)\n",
      "  File \"/usr/lib/python3.8/tkinter/__init__.py\", line 814, in callit\n",
      "    func(*args)\n",
      "  File \"/home/erik/.virtualenvs/veSeamFinder/lib/python3.8/site-packages/matplotlib/backends/_backend_tk.py\", line 476, in delayed_destroy\n",
      "    self.window.destroy()\n",
      "  File \"/usr/lib/python3.8/tkinter/__init__.py\", line 2311, in destroy\n",
      "    for c in list(self.children.values()): c.destroy()\n",
      "  File \"/usr/lib/python3.8/tkinter/__init__.py\", line 2583, in destroy\n",
      "    Misc.destroy(self)\n",
      "  File \"/usr/lib/python3.8/tkinter/__init__.py\", line 640, in destroy\n",
      "    self.tk.deletecommand(name)\n",
      "_tkinter.TclError: can't delete Tcl command\n"
     ]
    }
   ],
   "source": [
    "# Calibration - click points on the camera image    \n",
    "points3D, points = get_clicked3DPointsFromCapture(sCapture_Calibration, max_IR=1500)\n",
    "\n",
    "print(\"pixel coordinates of clicked points:\")\n",
    "print(points)\n",
    "print(\"3D coordinates of clicked points:\")\n",
    "print(points3D)\n",
    "\n",
    "print('_______________________________ Copy between lines __________________________________')\n",
    "print('int16 = np.int16\\n')\n",
    "print('# Calibration points in image - for preview')\n",
    "print('calibrationPointsImg_CS =', points.__repr__(), '\\n')\n",
    "\n",
    "print(\"# Calibration points in Camera system (in order: O, X, Y)\")\n",
    "print(f'calibrationPoints3D_CS = np.{points3D.__repr__()}')\n",
    "\n",
    "print('_____________________________________________________________________________________')"
   ]
  },
  {
   "cell_type": "code",
   "execution_count": 25,
   "id": "d44b50a7",
   "metadata": {},
   "outputs": [],
   "source": [
    "int16 = np.int16\n",
    "\n",
    "# Calibration points in image - for preview\n",
    "calibrationPointsImg_CS = [[268, 245], [264, 371], [168, 246]] \n",
    "\n",
    "# Calibration points in Camera system (in order: O, X, Y)\n",
    "calibrationPoints3D_CS = np.array([[-153, -141, 1037],\n",
    "       [ 110, -150, 1044],\n",
    "       [-152, -351, 998]], dtype=int16)\n",
    "# _______________ paste above line ____________________________________________\n",
    "\n",
    "# Calibration points in Robot system (in order: O, X, Y)\n",
    "# ENTER MANUALLY (read from robot pendant)\n",
    "calibrationPoints3D_RS = np.array([\n",
    "        [-519.2, -340.3, -27.8],\n",
    "        [-520.5, -604.2, -27.2],\n",
    "        [0, 100,  0]], dtype=int16)\n",
    "\n",
    "# calibrationPoints3D_RS = np.array([\n",
    "#         [0, 0,  0],\n",
    "#         [100, 0,  0],\n",
    "#         [0, 100,  0]], dtype=int16)"
   ]
  },
  {
   "cell_type": "code",
   "execution_count": 26,
   "id": "959b6634",
   "metadata": {},
   "outputs": [
    {
     "name": "stdout",
     "output_type": "stream",
     "text": [
      "# Transformation H_CR:\n",
      "H_CR = np.array([[-3.41722790e-02, -9.90631633e-01, -1.32216576e-01,\n",
      "        -5.26798830e+02],\n",
      "       [-9.98939322e-01,  3.79410574e-02, -2.60903634e-02,\n",
      "        -4.60432320e+02],\n",
      "       [ 3.08623760e-02,  1.31184769e-01, -9.90877424e-01,\n",
      "         1.02375889e+03],\n",
      "       [ 0.00000000e+00,  0.00000000e+00,  0.00000000e+00,\n",
      "         1.00000000e+00]])\n"
     ]
    },
    {
     "name": "stderr",
     "output_type": "stream",
     "text": [
      "libusb: error [udev_hotplug_event] ignoring udev action change\n",
      "libusb: error [udev_hotplug_event] ignoring udev action change\n",
      "libusb: error [udev_hotplug_event] ignoring udev action change\n",
      "libusb: error [udev_hotplug_event] ignoring udev action change\n",
      "libusb: error [udev_hotplug_event] ignoring udev action change\n",
      "libusb: error [udev_hotplug_event] ignoring udev action bind\n",
      "libusb: error [udev_hotplug_event] ignoring udev action change\n",
      "libusb: error [udev_hotplug_event] ignoring udev action change\n",
      "libusb: error [udev_hotplug_event] ignoring udev action change\n",
      "libusb: error [udev_hotplug_event] ignoring udev action change\n",
      "libusb: error [udev_hotplug_event] ignoring udev action change\n",
      "libusb: error [udev_hotplug_event] ignoring udev action bind\n"
     ]
    }
   ],
   "source": [
    "calib_cameraRobot = CalibrationCameraRobot(calibrationPoints3D_RS, \n",
    "                               calibrationPoints3D_CS, calibrationPointsImg_CS, \n",
    "                               sCapture_Calibration)  \n",
    "    \n",
    "H = calib_cameraRobot.get_transformation_CR()\n",
    "calib_cameraRobot.print_repr_transformation_CR()"
   ]
  },
  {
   "cell_type": "code",
   "execution_count": 11,
   "id": "dabf0e63",
   "metadata": {},
   "outputs": [
    {
     "name": "stdout",
     "output_type": "stream",
     "text": [
      "[[ 9.16305722e-01  2.98453864e-01  2.67037667e-01 -5.98740339e+01]\n",
      " [ 3.13802101e-01 -9.49358194e-01 -1.57245199e-02 -1.12928275e+02]\n",
      " [ 2.48821354e-01  9.82054485e-02 -9.63557795e-01  8.00976470e+02]\n",
      " [ 0.00000000e+00  0.00000000e+00  0.00000000e+00  1.00000000e+00]]\n"
     ]
    }
   ],
   "source": [
    "# Transformation H_CR:\n",
    "H_CR = np.array([[-3.55709795e-02, -9.95649794e-01, -8.61173193e-02,\n",
    "        -5.75525321e+02],\n",
    "       [-9.98934024e-01,  3.79600656e-02, -2.62649818e-02,\n",
    "        -4.60247750e+02],\n",
    "       [ 2.94197428e-02,  8.50912492e-02, -9.95938732e-01,\n",
    "         1.02228755e+03],\n",
    "       [ 0.00000000e+00,  0.00000000e+00,  0.00000000e+00,\n",
    "         1.00000000e+00]])\n",
    "\n",
    "# Transformation H_CR - for image 'V2_cardboard_03.pkl :\n",
    "H_CR = np.array([[ 9.16305722e-01,  2.98453864e-01,  2.67037667e-01,\n",
    "        -5.98740339e+01],\n",
    "       [ 3.13802101e-01, -9.49358194e-01, -1.57245199e-02,\n",
    "        -1.12928275e+02],\n",
    "       [ 2.48821354e-01,  9.82054485e-02, -9.63557795e-01,\n",
    "         8.00976470e+02],\n",
    "       [ 0.00000000e+00,  0.00000000e+00,  0.00000000e+00,\n",
    "         1.00000000e+00]])\n",
    "print(H_CR)"
   ]
  }
 ],
 "metadata": {
  "kernelspec": {
   "display_name": "Python 3 (ipykernel)",
   "language": "python",
   "name": "python3"
  },
  "language_info": {
   "codemirror_mode": {
    "name": "ipython",
    "version": 3
   },
   "file_extension": ".py",
   "mimetype": "text/x-python",
   "name": "python",
   "nbconvert_exporter": "python",
   "pygments_lexer": "ipython3",
   "version": "3.8.10"
  }
 },
 "nbformat": 4,
 "nbformat_minor": 5
}
