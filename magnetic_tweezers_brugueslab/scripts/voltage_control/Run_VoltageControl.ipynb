{
 "cells": [
  {
   "cell_type": "markdown",
   "metadata": {
    "collapsed": true
   },
   "source": [
    "Run the cell below if you want to have output of the cells on their side\n",
    "reload the page to get back to the default way.\n",
    "You can edit background colors below (change the hex #RGB values)\n",
    "Taken from:\n",
    "https://github.com/jupyter/notebook/issues/2897#issuecomment-442959381"
   ]
  },
  {
   "cell_type": "markdown",
   "metadata": {},
   "source": [
    "# Initialize\n",
    "Import packages and functions. \\\n",
    "Initialize serial connection. To recconnect with arduino, just run this cell again. "
   ]
  },
  {
   "cell_type": "code",
   "execution_count": 1,
   "metadata": {},
   "outputs": [
    {
     "name": "stdout",
     "output_type": "stream",
     "text": [
      "Avaliable ports: ['/dev/tty.Bluetooth-Incoming-Port', '/dev/tty.JBLTUNE230NCTWS', '/dev/tty.usbmodem144201']\n",
      "DAC1 port set to: /dev/tty.usbmodem144201\n"
     ]
    },
    {
     "name": "stderr",
     "output_type": "stream",
     "text": [
      "INFO:root:Serial opened on port /dev/tty.usbmodem144201 with baud rate 19200\n"
     ]
    },
    {
     "name": "stdout",
     "output_type": "stream",
     "text": [
      "... Flushing... \n",
      "... nothing more to flush.\n",
      "... flushing successfull!\n"
     ]
    }
   ],
   "source": [
    "# use env: mag_tw\n",
    "\n",
    "# Check for exsisting serial connections\n",
    "try:\n",
    "    sc.serial.close() # If serial connection exists, close it. \n",
    "except:\n",
    "    pass\n",
    "\n",
    "# To autoreload imported libraries:    \n",
    "%load_ext autoreload\n",
    "%autoreload 2\n",
    "\n",
    "import logging\n",
    "import time\n",
    "\n",
    "import serial_connection\n",
    "\n",
    "from my_funcs import *\n",
    "\n",
    "def flush():\n",
    "    \"\"\"\n",
    "    Flush input buffer of the serial by reading and printing its contetnts.\n",
    "    \n",
    "    There is a hardcoded limit on how many lines are read.\n",
    "    \"\"\"\n",
    "    flag_buffer_empty = False\n",
    "    print('... Flushing... ')\n",
    "    for i in range(100):\n",
    "        input_line = sc.readline()\n",
    "        # print(input_line)\n",
    "        if len(input_line) <= 0:\n",
    "            print('... nothing more to flush.')\n",
    "            flag_buffer_empty = True\n",
    "            break\n",
    "    if not flag_buffer_empty:\n",
    "        print('!! There might still be data in the buffer. Try flushing again.')\n",
    "    else: \n",
    "        print('... flushing successfull!')\n",
    "\n",
    "    \n",
    "# --- Init settings ------------------------------------------------------------    \n",
    "# COM port to which Arduino is connected\n",
    "\n",
    "#DAC1_port = 'COM24' # On the lab computer\n",
    "# DAC1_port = 'COM8' \n",
    "ports = serial_ports()\n",
    "print(f'Avaliable ports: {ports}')\n",
    "for port in ports:\n",
    "    if port.startswith('/dev/tty.usbmodem'):\n",
    "        print(f'DAC1 port set to: {port}')\n",
    "        DAC1_port = port # for Ursa's Mac\n",
    "\n",
    "\n",
    "# Set the level of logging. (recommended: logging.INFO \n",
    "# for more output you can use: logging.DEBUG)\n",
    "logging.basicConfig(level=logging.INFO)\n",
    "# ------------------------------------------------------------------------------\n",
    "    \n",
    "# Start the serial connection\n",
    "sc = serial_connection.serialConnection(port=DAC1_port, baud_rate=19200, string_terminator='\\r')\n",
    "\n",
    "# ### Settings on the Arduino\n",
    "# scmd.addCommand(\"!TT\", cmd_set_auto_timeout_time);  // _ #autoTimeoutTime\n",
    "a = sc.send_string('!TT 200', wait_for_answer=False)\n",
    "# scmd.addCommand(\"!TO\", cmd_set_auto_timeout_on);    // _ #autoTimeoutOn (0 or 1)\n",
    "a = sc.send_string('!TO 1', wait_for_answer=False)\n",
    "# scmd.addCommand(\"!VM\", cmd_set_voltage_max);        // _ #Vmax (in range 0 to 3000)\n",
    "a = sc.send_string('!VM 2000', wait_for_answer=False)\n",
    "# scmd.addCommand(\"!PA\", cmd_setPrintAll);            // _ #printAll (0 or 1)\n",
    "a = sc.send_string('!PA 0', wait_for_answer=False)\n",
    "\n",
    "flush()    "
   ]
  },
  {
   "cell_type": "markdown",
   "metadata": {},
   "source": [
    "# Run experiment"
   ]
  },
  {
   "cell_type": "code",
   "execution_count": 7,
   "metadata": {},
   "outputs": [
    {
     "name": "stdout",
     "output_type": "stream",
     "text": [
      "Done\n"
     ]
    }
   ],
   "source": [
    "# Mupltiple box functions (equal)\n",
    "t_on = 3  #s\n",
    "t_off = 20 #s\n",
    "N_pulses = 200 #s \n",
    "\n",
    "voltage_ampl = 2000 #mV\n",
    "\n",
    "\n",
    "recorded_time, set_voltage, measurements = multi_box(t_on=t_on, t_off=t_off, N_pulses=N_pulses, voltage_ampl=voltage_ampl, tip_idx=0,serial=sc)"
   ]
  },
  {
   "cell_type": "code",
   "execution_count": null,
   "metadata": {},
   "outputs": [],
   "source": [
    "# Mupltiple box functions (vary voltage amplitude)\n",
    "t_on = 5  #s\n",
    "t_off = 20 #s\n",
    "N_pulses = 20 \n",
    "\n",
    "voltage_ampl = [500, 2000]  # mV [min, max] or sequence\n",
    "\n",
    "for i in range(10):\n",
    "    recorded_time, set_voltage, measurements = multi_box_ampl_variation(t_on=t_on, t_off=t_off, N_pulses=N_pulses, voltage_ampl=voltage_ampl, tip_idx=0,serial=sc)"
   ]
  },
  {
   "cell_type": "code",
   "execution_count": null,
   "metadata": {
    "scrolled": false
   },
   "outputs": [],
   "source": [
    "# Working with one tip (tip number 0)\n",
    "tip_idx = 0\n",
    "\n",
    "import numpy as np\n",
    "\n",
    "measurements = []\n",
    "# --- User settings -------------------------------------------------------------------\n",
    "\n",
    "mode = ['step', 'sine', 'box', 'my_func'][3]\n",
    "voltage_amplitude = 1000 # Set voltage\n",
    "\n",
    "t_on = 5\n",
    "\n",
    "# my_func: several box functions with period and number of cycles\n",
    "period = 20\n",
    "N_cycles = 10\n",
    "\n",
    "t_signal_start = 1\n",
    "if mode == \"my_func\":\n",
    "    t_recording_stop = t_signal_start + N_cycles*period + 3\n",
    "else:   \n",
    "    t_recording_stop = t_signal_start + t_on + 3\n",
    "\n",
    "dT = 0.05 # Approximate time resolution (loop time)\n",
    "# -------------------------------------------------------------------------------------\n",
    "\n",
    "t_start = time.time()\n",
    "timer_loop_time = time.time()\n",
    "\n",
    "recorded_time = []\n",
    "set_voltage = []\n",
    "while time.time() < t_start + t_recording_stop:\n",
    "    t = time.time() - t_start\n",
    "    recorded_time.append(t)\n",
    "    if mode == 'step':\n",
    "        if  0 <= t - t_signal_start:\n",
    "            voltage = voltage_amplitude\n",
    "        else:\n",
    "            voltage = 0\n",
    "    elif mode == 'sine':\n",
    "        if 0 <= t - t_signal_start <= t_on:\n",
    "            voltage = int( 0.5*voltage_amplitude*(1 + np.sin(2*3.1415*2*t)) )\n",
    "        else:\n",
    "            voltage = 0\n",
    "    elif mode == 'box':\n",
    "        if 0 <= t - t_signal_start <= t_on:\n",
    "            voltage = voltage_amplitude\n",
    "        else:\n",
    "            voltage = 0\n",
    "    elif mode == 'my_func':\n",
    "        if t > period*N_cycles:\n",
    "            voltage = 0\n",
    "        elif 0 <= t%period - t_signal_start <= t_on:\n",
    "            voltage = voltage_amplitude\n",
    "        else:\n",
    "            voltage = 0\n",
    "    \n",
    "    else:\n",
    "        print('mode undefined')\n",
    "        break\n",
    "    \n",
    "    set_voltage.append(voltage)\n",
    "\n",
    "    # Send control voltage to Arduino - Vin\n",
    "    a = sc.send_string(f\"!SI {tip_idx} \" + str(voltage), wait_for_answer=True)\n",
    "    VI = int(a.split(' ')[2])\n",
    "    \n",
    "    # Read the voltage measurement - Vsense\n",
    "    a = sc.send_string(f'?SS {tip_idx}', wait_for_answer=True)\n",
    "    VS = int(a.split(' ')[1])\n",
    "    t = time.time() - t_start\n",
    "\n",
    "    measurements.append([t, VI, VS])\n",
    "    while time.time() < timer_loop_time + dT:\n",
    "        time.sleep(0.0001)\n",
    "    timer_loop_time = time.time()\n",
    "\n",
    "print('Done')"
   ]
  },
  {
   "cell_type": "markdown",
   "metadata": {},
   "source": [
    "# Plot the measurements"
   ]
  },
  {
   "cell_type": "code",
   "execution_count": 3,
   "metadata": {},
   "outputs": [
    {
     "data": {
      "image/png": "[encoded data removed]",
      "text/plain": [
       "<Figure size 640x480 with 1 Axes>"
      ]
     },
     "metadata": {},
     "output_type": "display_data"
    }
   ],
   "source": [
    "import matplotlib.pyplot as plt\n",
    "%matplotlib inline\n",
    "    \n",
    "data = np.array(measurements)\n",
    "fig = plt.figure()\n",
    "fig.patch.set_facecolor('white')\n",
    "\n",
    "\n",
    "plt.plot(data[:, 0], data[:, 1], ':.', label='V-in')\n",
    "plt.plot(data[:, 0], data[:, 2], ':.', label='V-sense')\n",
    "# Visual aids:\n",
    "plt.plot(recorded_time, set_voltage, 'b-')\n",
    "plt.legend()\n",
    "plt.xlabel('t [s]')\n",
    "plt.ylabel('V [mV]')\n",
    "plt.show()\n"
   ]
  },
  {
   "cell_type": "markdown",
   "metadata": {},
   "source": [
    "### Saving the measurements to a file"
   ]
  },
  {
   "cell_type": "code",
   "execution_count": null,
   "metadata": {
    "collapsed": true
   },
   "outputs": [],
   "source": [
    "# File counter is used for naming of saved files - it will overwrite saved files \n",
    "# when the same number.\n",
    "file_counter = 0"
   ]
  },
  {
   "cell_type": "code",
   "execution_count": null,
   "metadata": {},
   "outputs": [],
   "source": [
    "# # Save the data to text file\n",
    "# folder = 'E:/data/Ursa/20221011_exp_w_Melissa/'\n",
    "\n",
    "# #file_counter += 1\n",
    "# #file_name = folder + 'voltage_timeseries_' + str(file_counter) + '.txt'\n",
    "# file_name = folder + \"20221011_exp_w_Melissa/221011_sample1B_14_49_500mV/\" + \"voltage.txt'\"\n",
    "\n",
    "# comment = input('Enter the comment for the saved file:')\n",
    "# header_text = 't[s] Vin[mV] Vsense[mV]    comment: ' + comment\n",
    "file_name = \"E:/data/Ursa/20221011_exp_w_Melissa/221011_sample1A_15_20_2000_mV_60x/voltage.txt\"\n",
    "np.savetxt(file_name, data)\n",
    "print('File saved. Name:', file_name)\n"
   ]
  },
  {
   "cell_type": "markdown",
   "metadata": {},
   "source": [
    "# Functions for debugging\n",
    "Should be moved to other files or integrated into source scripts at some point."
   ]
  },
  {
   "cell_type": "code",
   "execution_count": 5,
   "metadata": {},
   "outputs": [
    {
     "name": "stdout",
     "output_type": "stream",
     "text": [
      "Available serial ports:\n",
      "['/dev/tty.JBLTUNE230NCTWS', '/dev/tty.Bluetooth-Incoming-Port', '/dev/tty.usbmodem144301']\n"
     ]
    }
   ],
   "source": [
    "\"\"\"To get the list of serial ports\"\"\"\n",
    "import sys\n",
    "import glob\n",
    "import serial\n",
    "\n",
    "\n",
    "def serial_ports():\n",
    "    \"\"\" Lists serial port names\n",
    "\n",
    "        :raises EnvironmentError:\n",
    "            On unsupported or unknown platforms\n",
    "        :returns:\n",
    "            A list of the serial ports available on the system\n",
    "    \"\"\"\n",
    "    if sys.platform.startswith('win'):\n",
    "        ports = ['COM%s' % (i + 1) for i in range(256)]\n",
    "    elif sys.platform.startswith('linux') or sys.platform.startswith('cygwin'):\n",
    "        # this excludes your current terminal \"/dev/tty\"\n",
    "        ports = glob.glob('/dev/tty[A-Za-z]*')\n",
    "    elif sys.platform.startswith('darwin'):\n",
    "        ports = glob.glob('/dev/tty.*')\n",
    "    else:\n",
    "        raise EnvironmentError('Unsupported platform')\n",
    "\n",
    "    result = []\n",
    "    for port in ports:\n",
    "        try:\n",
    "            s = serial.Serial(port)\n",
    "            s.close()\n",
    "            result.append(port)\n",
    "        except (OSError, serial.SerialException):\n",
    "            pass\n",
    "    return result\n",
    "\n",
    "\n",
    "print('Available serial ports:')\n",
    "print(serial_ports())\n"
   ]
  }
 ],
 "metadata": {
  "kernelspec": {
   "display_name": "Python 3 (ipykernel)",
   "language": "python",
   "name": "python3"
  },
  "language_info": {
   "codemirror_mode": {
    "name": "ipython",
    "version": 3
   },
   "file_extension": ".py",
   "mimetype": "text/x-python",
   "name": "python",
   "nbconvert_exporter": "python",
   "pygments_lexer": "ipython3",
   "version": "3.11.7"
  }
 },
 "nbformat": 4,
 "nbformat_minor": 2
}
