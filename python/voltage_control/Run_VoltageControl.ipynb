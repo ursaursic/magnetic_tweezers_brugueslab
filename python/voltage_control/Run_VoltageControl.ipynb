{
 "cells": [
  {
   "cell_type": "markdown",
   "metadata": {
    "collapsed": true
   },
   "source": [
    "Run the cell below if you want to have output of the cells on their side\n",
    "reload the page to get back to the default way.\n",
    "You can edit background colors below (change the hex #RGB values)\n",
    "Taken from:\n",
    "https://github.com/jupyter/notebook/issues/2897#issuecomment-442959381"
   ]
  },
  {
   "cell_type": "code",
   "execution_count": 1,
   "metadata": {
    "collapsed": false
   },
   "outputs": [
    {
     "data": {
      "text/html": [
       "<style>\n",
       "#notebook-container {\n",
       "    width: 100%;\n",
       "    background-color: #111\n",
       "}\n",
       "\n",
       ".code_cell {\n",
       "   flex-direction: row !important;\n",
       "}\n",
       "\n",
       ".code_cell .output_wrapper {\n",
       "    width: 50%;\n",
       "    background-color: #333\n",
       "}\n",
       "\n",
       ".code_cell .input {\n",
       "    width: 50%;\n",
       "    background-color: #222\n",
       "}\n",
       "</style>\n"
      ],
      "text/plain": [
       "<IPython.core.display.HTML object>"
      ]
     },
     "metadata": {},
     "output_type": "display_data"
    }
   ],
   "source": [
    "%%html\n",
    "<style>\n",
    "#notebook-container {\n",
    "    width: 100%;\n",
    "    background-color: #111\n",
    "}\n",
    "\n",
    ".code_cell {\n",
    "   flex-direction: row !important;\n",
    "}\n",
    "\n",
    ".code_cell .output_wrapper {\n",
    "    width: 50%;\n",
    "    background-color: #333\n",
    "}\n",
    "\n",
    ".code_cell .input {\n",
    "    width: 50%;\n",
    "    background-color: #222\n",
    "}\n",
    "</style>"
   ]
  },
  {
   "cell_type": "markdown",
   "metadata": {},
   "source": [
    "# Initialize\n",
    "Run the cell below for imports and function definitions to happen.\n",
    "\n",
    "Serial connection tries to be established. To reset the connection at any point, run the cell again."
   ]
  },
  {
   "cell_type": "code",
   "execution_count": 3,
   "metadata": {},
   "outputs": [
    {
     "data": {
      "text/plain": [
       "'d:\\\\Erik\\\\Programming\\\\Projects\\\\MagneticTweezers\\\\magnetic_tweezers_brugueslab\\\\python\\\\.venv\\\\Scripts\\\\python.exe'"
      ]
     },
     "execution_count": 3,
     "metadata": {},
     "output_type": "execute_result"
    }
   ],
   "source": [
    "sys.executable"
   ]
  },
  {
   "cell_type": "code",
   "execution_count": 1,
   "metadata": {},
   "outputs": [
    {
     "data": {
      "text/plain": [
       "'d:\\\\Erik\\\\Programming\\\\Projects\\\\MagneticTweezers\\\\magnetic_tweezers_brugueslab\\\\python\\\\voltage_control'"
      ]
     },
     "execution_count": 1,
     "metadata": {},
     "output_type": "execute_result"
    }
   ],
   "source": [
    "import os, sys\n",
    "# sys.path.append()\n",
    "\n",
    "os.getcwd()"
   ]
  },
  {
   "cell_type": "code",
   "execution_count": 3,
   "metadata": {},
   "outputs": [
    {
     "data": {
      "text/plain": [
       "['d:\\\\Erik\\\\Programming\\\\Projects\\\\MagneticTweezers\\\\magnetic_tweezers_brugueslab\\\\python\\\\voltage_control',\n",
       " 'C:\\\\Users\\\\Erik\\\\AppData\\\\Local\\\\Programs\\\\Python\\\\Python310\\\\python310.zip',\n",
       " 'C:\\\\Users\\\\Erik\\\\AppData\\\\Local\\\\Programs\\\\Python\\\\Python310\\\\DLLs',\n",
       " 'C:\\\\Users\\\\Erik\\\\AppData\\\\Local\\\\Programs\\\\Python\\\\Python310\\\\lib',\n",
       " 'C:\\\\Users\\\\Erik\\\\AppData\\\\Local\\\\Programs\\\\Python\\\\Python310',\n",
       " 'd:\\\\Erik\\\\Programming\\\\Projects\\\\MagneticTweezers\\\\magnetic_tweezers_brugueslab\\\\python\\\\.venv',\n",
       " '',\n",
       " 'd:\\\\Erik\\\\Programming\\\\Projects\\\\MagneticTweezers\\\\magnetic_tweezers_brugueslab\\\\python\\\\.venv\\\\lib\\\\site-packages',\n",
       " 'd:\\\\Erik\\\\Programming\\\\Projects\\\\MagneticTweezers\\\\magnetic_tweezers_brugueslab\\\\python\\\\.venv\\\\lib\\\\site-packages\\\\win32',\n",
       " 'd:\\\\Erik\\\\Programming\\\\Projects\\\\MagneticTweezers\\\\magnetic_tweezers_brugueslab\\\\python\\\\.venv\\\\lib\\\\site-packages\\\\win32\\\\lib',\n",
       " 'd:\\\\Erik\\\\Programming\\\\Projects\\\\MagneticTweezers\\\\magnetic_tweezers_brugueslab\\\\python\\\\.venv\\\\lib\\\\site-packages\\\\Pythonwin']"
      ]
     },
     "execution_count": 3,
     "metadata": {},
     "output_type": "execute_result"
    }
   ],
   "source": [
    "sys.path\n"
   ]
  },
  {
   "cell_type": "code",
   "execution_count": 5,
   "metadata": {},
   "outputs": [
    {
     "name": "stdout",
     "output_type": "stream",
     "text": [
      "d:\\Erik\\Programming\\Projects\\MagneticTweezers\\magnetic_tweezers_brugueslab\\python\\voltage_control\n",
      "d:\\Erik\\Programming\\Projects\\MagneticTweezers\\magnetic_tweezers_brugueslab\\python\n"
     ]
    }
   ],
   "source": [
    "\n",
    "print(sys.path[0])\n",
    "print(os.path.dirname(sys.path[0]))"
   ]
  },
  {
   "cell_type": "code",
   "execution_count": 6,
   "metadata": {},
   "outputs": [
    {
     "data": {
      "text/plain": [
       "['d:\\\\Erik\\\\Programming\\\\Projects\\\\MagneticTweezers\\\\magnetic_tweezers_brugueslab\\\\python\\\\voltage_control',\n",
       " 'C:\\\\Users\\\\Erik\\\\AppData\\\\Local\\\\Programs\\\\Python\\\\Python310\\\\python310.zip',\n",
       " 'C:\\\\Users\\\\Erik\\\\AppData\\\\Local\\\\Programs\\\\Python\\\\Python310\\\\DLLs',\n",
       " 'C:\\\\Users\\\\Erik\\\\AppData\\\\Local\\\\Programs\\\\Python\\\\Python310\\\\lib',\n",
       " 'C:\\\\Users\\\\Erik\\\\AppData\\\\Local\\\\Programs\\\\Python\\\\Python310',\n",
       " 'd:\\\\Erik\\\\Programming\\\\Projects\\\\MagneticTweezers\\\\magnetic_tweezers_brugueslab\\\\python\\\\.venv',\n",
       " '',\n",
       " 'd:\\\\Erik\\\\Programming\\\\Projects\\\\MagneticTweezers\\\\magnetic_tweezers_brugueslab\\\\python\\\\.venv\\\\lib\\\\site-packages',\n",
       " 'd:\\\\Erik\\\\Programming\\\\Projects\\\\MagneticTweezers\\\\magnetic_tweezers_brugueslab\\\\python\\\\.venv\\\\lib\\\\site-packages\\\\win32',\n",
       " 'd:\\\\Erik\\\\Programming\\\\Projects\\\\MagneticTweezers\\\\magnetic_tweezers_brugueslab\\\\python\\\\.venv\\\\lib\\\\site-packages\\\\win32\\\\lib',\n",
       " 'd:\\\\Erik\\\\Programming\\\\Projects\\\\MagneticTweezers\\\\magnetic_tweezers_brugueslab\\\\python\\\\.venv\\\\lib\\\\site-packages\\\\Pythonwin',\n",
       " 'd:\\\\Erik\\\\Programming\\\\Projects\\\\MagneticTweezers\\\\magnetic_tweezers_brugueslab\\\\python']"
      ]
     },
     "execution_count": 6,
     "metadata": {},
     "output_type": "execute_result"
    }
   ],
   "source": [
    "import os\n",
    "import sys\n",
    "import inspect\n",
    "\n",
    "parentdir = os.path.dirname(sys.path[0])\n",
    "sys.path.append(parentdir) \n",
    "\n",
    "sys.path"
   ]
  },
  {
   "cell_type": "code",
   "execution_count": 7,
   "metadata": {},
   "outputs": [
    {
     "ename": "TypeError",
     "evalue": "serialConnection.__init__() missing 1 required positional argument: 'port'",
     "output_type": "error",
     "traceback": [
      "\u001b[1;31m---------------------------------------------------------------------------\u001b[0m",
      "\u001b[1;31mTypeError\u001b[0m                                 Traceback (most recent call last)",
      "\u001b[1;32md:\\Erik\\Programming\\Projects\\MagneticTweezers\\magnetic_tweezers_brugueslab\\python\\voltage_control\\Run_VoltageControl.ipynb Cell 9\u001b[0m line \u001b[0;36m2\n\u001b[0;32m      <a href='vscode-notebook-cell:/d%3A/Erik/Programming/Projects/MagneticTweezers/magnetic_tweezers_brugueslab/python/voltage_control/Run_VoltageControl.ipynb#X24sZmlsZQ%3D%3D?line=0'>1</a>\u001b[0m \u001b[39mfrom\u001b[39;00m \u001b[39mserial_connection\u001b[39;00m \u001b[39mimport\u001b[39;00m serial_connection\n\u001b[1;32m----> <a href='vscode-notebook-cell:/d%3A/Erik/Programming/Projects/MagneticTweezers/magnetic_tweezers_brugueslab/python/voltage_control/Run_VoltageControl.ipynb#X24sZmlsZQ%3D%3D?line=1'>2</a>\u001b[0m serial_connection\u001b[39m.\u001b[39;49mserialConnection()\n",
      "\u001b[1;31mTypeError\u001b[0m: serialConnection.__init__() missing 1 required positional argument: 'port'"
     ]
    }
   ],
   "source": [
    "from serial_connection import serial_connection\n",
    "serial_connection.serialConnection()"
   ]
  },
  {
   "cell_type": "code",
   "execution_count": 5,
   "metadata": {},
   "outputs": [
    {
     "data": {
      "text/plain": [
       "['d:\\\\Erik\\\\Programming\\\\Projects\\\\MagneticTweezers\\\\magnetic_tweezers_brugueslab\\\\python\\\\voltage_control',\n",
       " 'C:\\\\Users\\\\Erik\\\\AppData\\\\Local\\\\Programs\\\\Python\\\\Python310\\\\python310.zip',\n",
       " 'C:\\\\Users\\\\Erik\\\\AppData\\\\Local\\\\Programs\\\\Python\\\\Python310\\\\DLLs',\n",
       " 'C:\\\\Users\\\\Erik\\\\AppData\\\\Local\\\\Programs\\\\Python\\\\Python310\\\\lib',\n",
       " 'C:\\\\Users\\\\Erik\\\\AppData\\\\Local\\\\Programs\\\\Python\\\\Python310',\n",
       " 'd:\\\\Erik\\\\Programming\\\\Projects\\\\MagneticTweezers\\\\magnetic_tweezers_brugueslab\\\\python\\\\.venv',\n",
       " '',\n",
       " 'd:\\\\Erik\\\\Programming\\\\Projects\\\\MagneticTweezers\\\\magnetic_tweezers_brugueslab\\\\python\\\\.venv\\\\lib\\\\site-packages',\n",
       " 'd:\\\\Erik\\\\Programming\\\\Projects\\\\MagneticTweezers\\\\magnetic_tweezers_brugueslab\\\\python\\\\.venv\\\\lib\\\\site-packages\\\\win32',\n",
       " 'd:\\\\Erik\\\\Programming\\\\Projects\\\\MagneticTweezers\\\\magnetic_tweezers_brugueslab\\\\python\\\\.venv\\\\lib\\\\site-packages\\\\win32\\\\lib',\n",
       " 'd:\\\\Erik\\\\Programming\\\\Projects\\\\MagneticTweezers\\\\magnetic_tweezers_brugueslab\\\\python\\\\.venv\\\\lib\\\\site-packages\\\\Pythonwin',\n",
       " 'd:\\\\Erik\\\\Programming\\\\Projects\\\\MagneticTweezers\\\\magnetic_tweezers_brugueslab']"
      ]
     },
     "execution_count": 5,
     "metadata": {},
     "output_type": "execute_result"
    }
   ],
   "source": [
    "\n",
    "sys.path"
   ]
  },
  {
   "cell_type": "code",
   "execution_count": 9,
   "metadata": {
    "collapsed": false
   },
   "outputs": [
    {
     "name": "stdout",
     "output_type": "stream",
     "text": [
      "The autoreload extension is already loaded. To reload it, use:\n",
      "  %reload_ext autoreload\n"
     ]
    },
    {
     "name": "stderr",
     "output_type": "stream",
     "text": [
      "INFO:root:Serial opened on port COM7 with baud rate 19200\n"
     ]
    },
    {
     "name": "stdout",
     "output_type": "stream",
     "text": [
      "... Flushing... Lines in buffer:\n",
      "bytearray(b'Setup done.\\r\\n')\n",
      "bytearray(b'File: V02_pcb_hotfix.ino, v0.2.0\\r\\n')\n",
      "bytearray(b'MAXSERIALCOMMANDS should be 15. It is: 15\\r\\n')\n",
      "bytearray(b\"For help type \\'help\\'.\\r\\n\")\n",
      "bytearray(b'Voltage set. Tip: 0, voltage: 0\\r\\n')\n",
      "bytearray(b'Voltage set. Tip: 1, voltage: 0\\r\\n')\n",
      "bytearray(b'Voltage set. Tip: 0, voltage: 0\\r\\n')\n",
      "bytearray(b'Voltage set. Tip: 1, voltage: 0\\r\\n')\n",
      "bytearray(b'Voltage set. Tip: 0, voltage: 0\\r\\n')\n",
      "bytearray(b'Voltage set. Tip: 1, voltage: 0\\r\\n')\n",
      "bytearray(b'Voltage set. Tip: 0, voltage: 0\\r\\n')\n",
      "bytearray(b'Voltage set. Tip: 1, voltage: 0\\r\\n')\n",
      "bytearray(b'Voltage set. Tip: 0, voltage: 0\\r\\n')\n",
      "bytearray(b'Voltage set. Tip: 1, voltage: 0\\r\\n')\n",
      "bytearray(b'Voltage set. Tip: 0, voltage: 0\\r\\n')\n",
      "bytearray(b'Voltage set. Tip: 1, voltage: 0\\r\\n')\n",
      "bytearray(b'Voltage set. Tip: 0, voltage: 0\\r\\n')\n",
      "bytearray(b'Voltage set. Tip: 1, voltage: 0\\r\\n')\n",
      "bytearray(b'Voltage set. Tip: 0, voltage: 0\\r\\n')\n",
      "bytearray(b'Voltage set. Tip: 1, voltage: 0\\r\\n')\n",
      "bytearray(b'Voltage set. Tip: 0, voltage: 0\\r\\n')\n",
      "bytearray(b'Voltage set. Tip: 1, voltage: 0\\r\\n')\n",
      "bytearray(b'Voltage set. Tip: 0, voltage: 0\\r\\n')\n",
      "bytearray(b'Voltage set. Tip: 1, voltage: 0\\r\\n')\n",
      "bytearray(b'Voltage set. Tip: 0, voltage: 0\\r\\n')\n",
      "bytearray(b'Voltage set. Tip: 1, voltage: 0\\r\\n')\n",
      "bytearray(b'Voltage set. Tip: 0, voltage: 0\\r\\n')\n",
      "bytearray(b'Voltage set. Tip: 1, voltage: 0\\r\\n')\n",
      "bytearray(b'Voltage set. Tip: 0, voltage: 0\\r\\n')\n",
      "bytearray(b'Voltage set. Tip: 1, voltage: 0\\r\\n')\n",
      "bytearray(b'Voltage set. Tip: 0, voltage: 0\\r\\n')\n",
      "bytearray(b'Voltage set. Tip: 1, voltage: 0\\r\\n')\n",
      "\n",
      "... nothing more to flush.\n",
      "... flushing done!\n"
     ]
    }
   ],
   "source": [
    "# In case that serial conneciton is existing, it gets closed.\n",
    "try:\n",
    "    sc.serial.close()\n",
    "except:\n",
    "    pass\n",
    "\n",
    "# To autoreload imported libraries:    \n",
    "%load_ext autoreload\n",
    "%autoreload 2\n",
    "\n",
    "import logging\n",
    "import time\n",
    "\n",
    "from serial_connection import serial_connection\n",
    "\n",
    "def flush():\n",
    "    \"\"\"\n",
    "    Flush input buffer of the serial by reading and printing it's contetnts.\n",
    "    \n",
    "    There is a hardcoded limit on how many lines are read. If the buffer is empty\n",
    "    sooner the reading stops.\n",
    "    \"\"\"\n",
    "    flag_buffer_empty = False\n",
    "    print('... Flushing... Lines in buffer:')\n",
    "    for i in range(100):\n",
    "        input_line = sc.readline()\n",
    "        print(input_line)\n",
    "        if len(input_line) <= 0:\n",
    "            print('... nothing more to flush.')\n",
    "            flag_buffer_empty = True\n",
    "            break\n",
    "    if not flag_buffer_empty:\n",
    "        print('!! There might still be data in the buffer. Try flushing again.')\n",
    "    print('... flushing done!')\n",
    "\n",
    "    \n",
    "# --- Init settings ------------------------------------------------------------    \n",
    "# COM port to which Arduino is connected\n",
    "# DAC1_port = 'COM24' # On the lab computer\n",
    "DAC1_port = 'COM7'  # On my laptop\n",
    "\n",
    "# Set the level of logging. (recommended: logging.INFO \n",
    "# for more output you can use: logging.DEBUG)\n",
    "logging.basicConfig(level=logging.INFO)\n",
    "# ------------------------------------------------------------------------------\n",
    "    \n",
    "# Start the serial connection\n",
    "sc = serial_connection.serialConnection(port=DAC1_port, baud_rate=19200, string_terminator='\\r\\n')\n",
    "\n",
    "a = sc.send_string('!PA 0', wait_for_answer=False)\n",
    "\n",
    "# ### Settings on the Arduino\n",
    "# scmd.addCommand(\"!TT\", cmd_set_auto_timeout_time);  // _ #autoTimeoutTime\n",
    "a = sc.send_string('!TT 200', wait_for_answer=False)\n",
    "# scmd.addCommand(\"!TO\", cmd_set_auto_timeout_on);    // _ #autoTimeoutOn (0 or 1)\n",
    "a = sc.send_string('!TO 1', wait_for_answer=False)\n",
    "# scmd.addCommand(\"!VM\", cmd_set_voltage_max);        // _ #Vmax (in range 0 to 3000)\n",
    "a = sc.send_string('!VM 2000', wait_for_answer=False)\n",
    "# scmd.addCommand(\"!PA\", cmd_setPrintAll);            // _ #printAll (0 or 1)\n",
    "a = sc.send_string('!PA 0', wait_for_answer=False)\n",
    "\n",
    "flush()    "
   ]
  },
  {
   "cell_type": "code",
   "execution_count": 51,
   "metadata": {
    "collapsed": true
   },
   "outputs": [],
   "source": [
    "# ### (optional) Changing the logging level at any time\n",
    "logging.getLogger().setLevel(logging.INFO)\n",
    "# logging.getLogger().setLevel(logging.DEBUG)"
   ]
  },
  {
   "cell_type": "markdown",
   "metadata": {},
   "source": [
    "# Run experiment"
   ]
  },
  {
   "cell_type": "code",
   "execution_count": 16,
   "metadata": {
    "collapsed": false,
    "scrolled": false
   },
   "outputs": [
    {
     "name": "stdout",
     "output_type": "stream",
     "text": [
      "Done\n"
     ]
    }
   ],
   "source": [
    "import numpy as np\n",
    "\n",
    "measurements = []\n",
    "# --- User settings -------------------------------------------------------------------\n",
    "\n",
    "mode = ['step', 'sine', 'box'][2]\n",
    "voltage_amplitude = 2000 # Max voltage\n",
    "t_box = 3\n",
    "\n",
    "\n",
    "t_signal_start = 1\n",
    "t_signal_stop = t_signal_start + t_box\n",
    "t_recording_stop = t_signal_stop + 3\n",
    "\n",
    "dT = 0.05 # Approximate time resolution (loop time)\n",
    "# -------------------------------------------------------------------------------------\n",
    "\n",
    "t_start = time.time()\n",
    "timer_loop_time = time.time()\n",
    "\n",
    "while time.time() < t_start + t_recording_stop:\n",
    "    t = time.time() - t_start\n",
    "    if mode == 'step':\n",
    "        if t > t_signal_start:\n",
    "            voltage = voltage_amplitude\n",
    "        else:\n",
    "            voltage = 0\n",
    "    elif mode == 'sine':\n",
    "        if t_signal_start <= t <= t_signal_stop:\n",
    "            voltage = int( 0.5*voltage_amplitude*(1 + np.sin(2*3.1415*2*t)) )\n",
    "        else:\n",
    "            voltage = 0\n",
    "    elif mode == 'box':\n",
    "        if t_signal_start <= t <= t_signal_stop:\n",
    "            voltage = voltage_amplitude\n",
    "        else:\n",
    "            voltage = 0\n",
    "    else:\n",
    "        print('mode undefined')\n",
    "\n",
    "    # Send control voltage to Arduino - Vin\n",
    "    a = sc.send_string('!SI 0 ' + str(voltage), wait_for_answer=True)\n",
    "\n",
    "    VI = int(a.split(' ')[2])\n",
    "\n",
    "    # Read the voltage measurement - Vsense\n",
    "    a = sc.send_string('?SS 0', wait_for_answer=True)\n",
    "    VS = int(a.split(' ')[1])\n",
    "    t = time.time() - t_start\n",
    "\n",
    "    measurements.append([t, VI, VS])\n",
    "    while time.time() < timer_loop_time + dT:\n",
    "        time.sleep(0.0001)\n",
    "    timer_loop_time = time.time()\n",
    "\n",
    "print('Done')"
   ]
  },
  {
   "cell_type": "markdown",
   "metadata": {},
   "source": [
    "# Plot the measurements"
   ]
  },
  {
   "cell_type": "code",
   "execution_count": 17,
   "metadata": {
    "collapsed": false
   },
   "outputs": [
    {
     "data": {
      "image/png": "[encoded data removed]",
      "text/plain": [
       "<Figure size 640x480 with 1 Axes>"
      ]
     },
     "metadata": {},
     "output_type": "display_data"
    }
   ],
   "source": [
    "import matplotlib.pyplot as plt\n",
    "# %matplotlib notebook \n",
    "%matplotlib inline\n",
    "    \n",
    "data = np.array(measurements)\n",
    "fig = plt.figure()\n",
    "fig.patch.set_facecolor('white')\n",
    "\n",
    "\n",
    "plt.plot(data[:, 0], data[:, 1], ':o', label='V-in')\n",
    "plt.plot(data[:, 0], data[:, 2], ':.', label='V-sense')\n",
    "# Visual aids:\n",
    "plt.axvline(t_signal_start, ls=':', c='r', label='t_signal_start')\n",
    "plt.axvline(t_signal_stop, ls=':', label='t_signal_stop')\n",
    "plt.title('V(t) - mode: ' + mode)\n",
    "plt.legend()\n",
    "plt.xlabel('t [s]')\n",
    "plt.ylabel('V [mV]')\n",
    "plt.show()\n"
   ]
  },
  {
   "cell_type": "markdown",
   "metadata": {},
   "source": [
    "### Saving the measurements to a file"
   ]
  },
  {
   "cell_type": "code",
   "execution_count": null,
   "metadata": {
    "collapsed": true
   },
   "outputs": [],
   "source": [
    "# File counter is used for naming of saved files - it will overwrite saved files \n",
    "# when the same number.\n",
    "file_counter = 0"
   ]
  },
  {
   "cell_type": "code",
   "execution_count": null,
   "metadata": {
    "collapsed": false
   },
   "outputs": [],
   "source": [
    "# # Save the data to text file\n",
    "# folder = 'E:/data/Ursa/20221011_exp_w_Melissa/'\n",
    "\n",
    "# #file_counter += 1\n",
    "# #file_name = folder + 'voltage_timeseries_' + str(file_counter) + '.txt'\n",
    "# file_name = folder + \"20221011_exp_w_Melissa/221011_sample1B_14_49_500mV/\" + \"voltage.txt'\"\n",
    "\n",
    "# comment = input('Enter the comment for the saved file:')\n",
    "# header_text = 't[s] Vin[mV] Vsense[mV]    comment: ' + comment\n",
    "file_name = \"E:/data/Ursa/20221011_exp_w_Melissa/221011_sample1A_15_20_2000_mV_60x/voltage.txt\"\n",
    "np.savetxt(file_name, data)\n",
    "print('File saved. Name:', file_name)\n"
   ]
  },
  {
   "cell_type": "markdown",
   "metadata": {},
   "source": [
    "# Functions for debugging\n",
    "Should be moved to other files or integrated into source scripts at some point."
   ]
  },
  {
   "cell_type": "code",
   "execution_count": 8,
   "metadata": {
    "collapsed": false
   },
   "outputs": [
    {
     "name": "stdout",
     "output_type": "stream",
     "text": [
      "Available serial ports:\n",
      "['COM3', 'COM7']\n"
     ]
    }
   ],
   "source": [
    "\"\"\"To get the list of serial ports\"\"\"\n",
    "import sys\n",
    "import glob\n",
    "import serial\n",
    "\n",
    "\n",
    "def serial_ports():\n",
    "    \"\"\" Lists serial port names\n",
    "\n",
    "        :raises EnvironmentError:\n",
    "            On unsupported or unknown platforms\n",
    "        :returns:\n",
    "            A list of the serial ports available on the system\n",
    "    \"\"\"\n",
    "    if sys.platform.startswith('win'):\n",
    "        ports = ['COM%s' % (i + 1) for i in range(256)]\n",
    "    elif sys.platform.startswith('linux') or sys.platform.startswith('cygwin'):\n",
    "        # this excludes your current terminal \"/dev/tty\"\n",
    "        ports = glob.glob('/dev/tty[A-Za-z]*')\n",
    "    elif sys.platform.startswith('darwin'):\n",
    "        ports = glob.glob('/dev/tty.*')\n",
    "    else:\n",
    "        raise EnvironmentError('Unsupported platform')\n",
    "\n",
    "    result = []\n",
    "    for port in ports:\n",
    "        try:\n",
    "            s = serial.Serial(port)\n",
    "            s.close()\n",
    "            result.append(port)\n",
    "        except (OSError, serial.SerialException):\n",
    "            pass\n",
    "    return result\n",
    "\n",
    "\n",
    "print('Available serial ports:')\n",
    "print(serial_ports())\n"
   ]
  }
 ],
 "metadata": {
  "kernelspec": {
   "display_name": ".venv",
   "language": "python",
   "name": "python3"
  },
  "language_info": {
   "codemirror_mode": {
    "name": "ipython",
    "version": 3
   },
   "file_extension": ".py",
   "mimetype": "text/x-python",
   "name": "python",
   "nbconvert_exporter": "python",
   "pygments_lexer": "ipython3",
   "version": "3.10.10"
  }
 },
 "nbformat": 4,
 "nbformat_minor": 2
}
