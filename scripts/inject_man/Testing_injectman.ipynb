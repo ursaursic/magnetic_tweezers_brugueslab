{
 "cells": [
  {
   "cell_type": "code",
   "execution_count": null,
   "metadata": {
    "collapsed": true
   },
   "outputs": [],
   "source": [
    "'''\n",
    "Left off notes (27.7.22, Erik):\n",
    "- qurey position doesn't give x,y,z, but motor positions (which is different than x,y, z\n",
    "values on the injectman controller display.)\n",
    "-[x] TODO: check how it works with the goto position - what positions come throug\n",
    "-[x] TODO: implement the math so that you get the same (in the +- few micro meters) x,y,z values\n",
    "on both (python and controller), and that it works for both query and goto.\n",
    "- TODO: finish the injectman class (implement all the functionallities)\n",
    "- TODO: - test limits of the beeps (number, can it bi negative, 0 and how big)\n",
    "- AFTER: think about the mag tweezers class, that uses injectman (and voltage control)\n",
    "and how you want it to behave.\n",
    "\n",
    "------------------------------------------------------------------\n",
    "Notes Erik (3.8.22):\n",
    "- First setup a new environment (and now the f-string linting seems to work properly)\n",
    "- I tested the move_to() with waiting for completion or not. With completion it\n",
    "works as expected, with stops at every point. With no completion it depends on the time\n",
    "in between points - with no additional delay its unusable (points are skipped in some wierd\n",
    "ways/shapes - it's not just skipping to the next point consistently). if delay is big enough \n",
    "then it might work a bit faster that with wait for completion, take a look at the videos on Erik's phone.\n",
    "for the start I'd just use wait for completion, until we really need a responsive setup.\n",
    "then we can look more into it.\n",
    "\n",
    "Left off:\n",
    "- Below there is a cell (\"Example:\") that draws a circle using the inject man object.\n",
    "- the inject man class is almost completed - still a lot of todos, but the class can\n",
    "be used in further stages and the todos we'll see if are needed. The relative move (move_for())\n",
    "has to be implemented - if we find it useful.\n",
    "- next steps will be the finalization of the class and work on the voltage control and bringing\n",
    "it all together.\n",
    "\n",
    "'''"
   ]
  },
  {
   "cell_type": "code",
   "execution_count": null,
   "metadata": {
    "collapsed": true
   },
   "outputs": [],
   "source": [
    "# Run the cell below if you want to have output of the cells on their side\n",
    "# reload the page to get back to the default way.\n",
    "# You can edit background colors below (change the hex #RGB values)\n",
    "# Taken from:\n",
    "# https://github.com/jupyter/notebook/issues/2897#issuecomment-442959381"
   ]
  },
  {
   "cell_type": "code",
   "execution_count": null,
   "metadata": {
    "collapsed": true
   },
   "outputs": [],
   "source": [
    "%%html\n",
    "<style>\n",
    "#notebook-container {\n",
    "    width: 100%;\n",
    "    background-color: #111\n",
    "}\n",
    "\n",
    ".code_cell {\n",
    "   flex-direction: row !important;\n",
    "}\n",
    "\n",
    ".code_cell .output_wrapper {\n",
    "    width: 50%;\n",
    "    background-color: #333\n",
    "}\n",
    "\n",
    ".code_cell .input {\n",
    "    width: 50%;\n",
    "    background-color: #222\n",
    "}\n",
    "</style>"
   ]
  },
  {
   "cell_type": "code",
   "execution_count": 1,
   "metadata": {
    "collapsed": false
   },
   "outputs": [
    {
     "name": "stdout",
     "output_type": "stream",
     "text": [
      "C:\\Users\\brugueslab\\AppData\\Local\\pypoetry\\Cache\\virtualenvs\\magnetictweezers-qIRZemfC-py3.8\\Scripts\\python.exe\n"
     ]
    }
   ],
   "source": [
    "# import serial_connection\n",
    "# import serial\n",
    "\n",
    "import winsound\n",
    "def beep():\n",
    "    frequency = 600  # Set Frequency To 2500 Hertz\n",
    "    duration = 200  # Set Duration To 1000 ms == 1 second\n",
    "    winsound.Beep(frequency, duration)\n",
    "\n",
    "beep()\n",
    "\n",
    "\n",
    "\n",
    "import sys \n",
    "print(sys.executable)\n",
    "# Should be something like:\n",
    "# C:\\Users\\brugueslab\\AppData\\Local\\pypoetry\\Cache\\virtualenvs\\magnetictweezers-qIRZemfC-py3.8\\Scripts\\python.exe"
   ]
  },
  {
   "cell_type": "code",
   "execution_count": 1,
   "metadata": {
    "collapsed": false
   },
   "outputs": [
    {
     "name": "stderr",
     "output_type": "stream",
     "text": [
      "INFO:root:Serial opened on port COM5 with baud rate 19200\n"
     ]
    },
    {
     "name": "stdout",
     "output_type": "stream",
     "text": [
      "flushing...\n",
      "b'string_echo\\r\\n'\n",
      "time: 0.001995086669921875 s\n",
      "b''\n",
      "time: 0.10167622566223145 s\n",
      "b''\n",
      "time: 0.1099236011505127 s\n",
      "b''\n",
      "time: 0.10765385627746582 s\n",
      "b''\n",
      "time: 0.10828971862792969 s\n",
      "heeej\n"
     ]
    },
    {
     "name": "stderr",
     "output_type": "stream",
     "text": [
      "DEBUG:root:In send_string(): Encoded string: b'c001\\n'\n",
      "DEBUG:root:Answer is: b'A001\\n'\n",
      "DEBUG:root:Answer decoded and stripped: \"A001\"\n"
     ]
    },
    {
     "data": {
      "text/plain": [
       "'A001'"
      ]
     },
     "execution_count": 1,
     "metadata": {},
     "output_type": "execute_result"
    }
   ],
   "source": [
    "try:\n",
    "    sc.serial.close()\n",
    "except:\n",
    "    pass\n",
    "\n",
    "import logging\n",
    "import time\n",
    "\n",
    "import serial_connection\n",
    "\n",
    "# To autoreload imported libraries:    \n",
    "%load_ext autoreload\n",
    "%autoreload 2\n",
    "\n",
    "logging.basicConfig(level=logging.DEBUG)\n",
    "\n",
    "using_Arduino_to_fake_injectman = True\n",
    "if using_Arduino_to_fake_injectman:\n",
    "    sc = serial_connection.serialConnection(port='COM5', baud_rate=19200)\n",
    "else:\n",
    "    sc = serial_connection.serialConnection(port='COM1', baud_rate=19200)\n",
    "\n",
    "\n",
    "# a = \"bla bla\"\n",
    "# c = f\"krneki {a}\"\n",
    "# b = 5\n",
    "\n",
    "\n",
    "# print(f'sdd')\n",
    "\n",
    "\n",
    "print('flushing...')\n",
    "for i in range(5):\n",
    "    t1 = time.time()\n",
    "    print(sc.serial.readline())\n",
    "    t2 = time.time()\n",
    "    print(f\"time: {t2-t1} s\")\n",
    "    \n",
    "\n",
    "print('heeej')\n",
    "\n",
    "sc.send_string('c001', wait_for_answer=True)\n"
   ]
  },
  {
   "cell_type": "code",
   "execution_count": 3,
   "metadata": {
    "collapsed": false
   },
   "outputs": [
    {
     "name": "stdout",
     "output_type": "stream",
     "text": [
      "flushing...\n",
      "b'A8\\n'\n",
      "time: 0.0009646415710449219 s\n",
      "b'c9\\n'\n",
      "time: 0.0 s\n",
      "b''\n",
      "time: 0.11117839813232422 s\n",
      "b''\n",
      "time: 0.10919189453125 s\n",
      "b''\n",
      "time: 0.10850858688354492 s\n"
     ]
    },
    {
     "name": "stderr",
     "output_type": "stream",
     "text": [
      "DEBUG:root:In send_string(): Encoded string: b'c100\\n'\n",
      "DEBUG:root:In send_string(): Encoded string: b'c200\\n'\n",
      "DEBUG:root:In send_string(): Encoded string: b'c1\\n'\n",
      "DEBUG:root:Answer is: b'A100\\n'\n",
      "DEBUG:root:Answer decoded and stripped: \"A100\"\n",
      "DEBUG:root:In send_string(): Encoded string: b'c2\\n'\n",
      "DEBUG:root:Answer is: b'c200\\n'\n",
      "DEBUG:root:Answer decoded and stripped: \"c200\"\n",
      "DEBUG:root:In send_string(): Encoded string: b'c3\\n'\n",
      "DEBUG:root:Answer is: b'c1\\n'\n",
      "DEBUG:root:Answer decoded and stripped: \"c1\"\n",
      "DEBUG:root:In send_string(): Encoded string: b'c4\\n'\n",
      "DEBUG:root:Answer is: b'A2\\n'\n",
      "DEBUG:root:Answer decoded and stripped: \"A2\"\n",
      "DEBUG:root:In send_string(): Encoded string: b'c5\\n'\n",
      "DEBUG:root:Answer is: b'c3\\n'\n",
      "DEBUG:root:Answer decoded and stripped: \"c3\"\n",
      "DEBUG:root:In send_string(): Encoded string: b'c6\\n'\n",
      "DEBUG:root:Answer is: b'c4\\n'\n",
      "DEBUG:root:Answer decoded and stripped: \"c4\"\n",
      "DEBUG:root:In send_string(): Encoded string: b'c7\\n'\n",
      "DEBUG:root:Answer is: b'A5\\n'\n"
     ]
    },
    {
     "name": "stdout",
     "output_type": "stream",
     "text": [
      "using the \"normal\" readline\n",
      "A100\n",
      "using the \"normal\" readline\n",
      "c200\n",
      "using the \"normal\" readline\n",
      "c1\n",
      "using the \"normal\" readline\n",
      "A2\n",
      "using the \"normal\" readline\n",
      "c3\n",
      "using the \"normal\" readline\n",
      "c4\n",
      "using the \"normal\" readline\n"
     ]
    },
    {
     "name": "stderr",
     "output_type": "stream",
     "text": [
      "DEBUG:root:Answer decoded and stripped: \"A5\"\n",
      "DEBUG:root:In send_string(): Encoded string: b'c8\\n'\n",
      "DEBUG:root:Answer is: b'c6\\n'\n",
      "DEBUG:root:Answer decoded and stripped: \"c6\"\n",
      "DEBUG:root:In send_string(): Encoded string: b'c9\\n'\n",
      "DEBUG:root:Answer is: b'c7\\n'\n",
      "DEBUG:root:Answer decoded and stripped: \"c7\"\n"
     ]
    },
    {
     "name": "stdout",
     "output_type": "stream",
     "text": [
      "A5\n",
      "using the \"normal\" readline\n",
      "c6\n",
      "using the \"normal\" readline\n",
      "c7\n"
     ]
    }
   ],
   "source": [
    "print('flushing...')\n",
    "for i in range(5):\n",
    "    t1 = time.time()\n",
    "    print(sc.serial.readline())\n",
    "    t2 = time.time()\n",
    "    print(f\"time: {t2-t1} s\")\n",
    "time.sleep(0.5)\n",
    "    \n",
    "sc.send_string('c100', wait_for_answer=False)\n",
    "sc.send_string('c200', wait_for_answer=False)\n",
    "for i in range(1, 10):\n",
    "    a = sc.send_string(f'c{i}', wait_for_answer=True)\n",
    "    print(a)"
   ]
  },
  {
   "cell_type": "code",
   "execution_count": 10,
   "metadata": {
    "collapsed": false
   },
   "outputs": [
    {
     "name": "stderr",
     "output_type": "stream",
     "text": [
      "DEBUG:root:In send_string(): Encoded string: b'c014 1\\n'\n",
      "DEBUG:root:Answer is: bytearray(b'A014 1\\n')\n",
      "DEBUG:root:Answer decoded and stripped: \"A014 1\"\n"
     ]
    },
    {
     "name": "stdout",
     "output_type": "stream",
     "text": [
      "A014 1\n"
     ]
    }
   ],
   "source": [
    "a = sc.send_string('c014 1', wait_for_answer=True)\n",
    "print(a)"
   ]
  },
  {
   "cell_type": "markdown",
   "metadata": {},
   "source": [
    "# -------------------------------------------------------------------------\n",
    "# --------------------------------------------------------------------------\n",
    "# Testing of the injectman object:"
   ]
  },
  {
   "cell_type": "code",
   "execution_count": 151,
   "metadata": {
    "collapsed": false
   },
   "outputs": [
    {
     "name": "stderr",
     "output_type": "stream",
     "text": [
      "INFO:root:InjectMan initialization...\n"
     ]
    },
    {
     "name": "stdout",
     "output_type": "stream",
     "text": [
      "im.serial closed in the try block.\n",
      "The autoreload extension is already loaded. To reload it, use:\n",
      "  %reload_ext autoreload\n"
     ]
    },
    {
     "name": "stderr",
     "output_type": "stream",
     "text": [
      "INFO:root:Serial opened on port COM1 with baud rate 19200\n",
      "INFO:root:InjectMan init done. is_simulated = False\n"
     ]
    }
   ],
   "source": [
    "try:\n",
    "    if sc.serial.isOpen():\n",
    "        sc.serial.close()\n",
    "        print('sc.serial closed in the try block.')\n",
    "except:\n",
    "    pass\n",
    "try:\n",
    "    if im.serial_connection.serial.isOpen():\n",
    "        im.serial_connection.serial.close()\n",
    "        print('im.serial closed in the try block.')\n",
    "except:\n",
    "    pass\n",
    "\n",
    "import logging\n",
    "import time\n",
    "\n",
    "import inject_man\n",
    "\n",
    "# To autoreload imported libraries:    \n",
    "%load_ext autoreload\n",
    "%autoreload 2\n",
    "\n",
    "logging.basicConfig(level=logging.DEBUG)\n",
    "\n",
    "\n",
    "\n",
    "\n",
    "using_Arduino_to_fake_injectman = True\n",
    "if using_Arduino_to_fake_injectman:\n",
    "    im = inject_man.InjectMan(port='COM1')\n",
    "else:\n",
    "    im = inject_man.InjectMan()\n",
    "\n",
    "    "
   ]
  },
  {
   "cell_type": "code",
   "execution_count": 5,
   "metadata": {
    "collapsed": false
   },
   "outputs": [
    {
     "name": "stderr",
     "output_type": "stream",
     "text": [
      "DEBUG:root:in send_command_serial(): sending \"C001\" to serial on port COM1.\n",
      "DEBUG:root:In send_string(): Encoded string: b'C001\\n'\n",
      "DEBUG:root:Answer is: bytearray(b'A001 5181 V2.02\\n')\n",
      "DEBUG:root:Answer decoded and stripped: \"A001 5181 V2.02\"\n",
      "DEBUG:root:in call_command_code:\n",
      "\tcommand: C001\n",
      "\t anwser: A001 5181 V2.02\n",
      "DEBUG:root:in send_command_serial(): sending \"C005\" to serial on port COM1.\n",
      "DEBUG:root:In send_string(): Encoded string: b'C005\\n'\n",
      "DEBUG:root:Answer is: bytearray(b'\\rA005\\n')\n",
      "DEBUG:root:Answer decoded and stripped: \"A005\"\n",
      "DEBUG:root:in call_command_code:\n",
      "\tcommand: C005\n",
      "\t anwser: A005\n",
      "DEBUG:root:in send_command_serial(): sending \"C001\" to serial on port COM1.\n",
      "DEBUG:root:In send_string(): Encoded string: b'C001\\n'\n",
      "DEBUG:root:Answer is: bytearray(b'\\rA001 5181 V2.02\\n')\n",
      "DEBUG:root:Answer decoded and stripped: \"A001 5181 V2.02\"\n",
      "DEBUG:root:in call_command_code:\n",
      "\tcommand: C001\n",
      "\t anwser: A001 5181 V2.02\n",
      "DEBUG:root:in send_command_serial(): sending \"C005\" to serial on port COM1.\n",
      "DEBUG:root:In send_string(): Encoded string: b'C005\\n'\n",
      "DEBUG:root:Answer is: bytearray(b'\\rA005\\n')\n",
      "DEBUG:root:Answer decoded and stripped: \"A005\"\n",
      "DEBUG:root:in call_command_code:\n",
      "\tcommand: C005\n",
      "\t anwser: A005\n",
      "DEBUG:root:in send_command_serial(): sending \"C010\" to serial on port COM1.\n",
      "DEBUG:root:In send_string(): Encoded string: b'C010\\n'\n",
      "DEBUG:root:Answer is: bytearray(b'\\rA010 0 0 0 2\\n')\n",
      "DEBUG:root:Answer decoded and stripped: \"A010 0 0 0 2\"\n",
      "DEBUG:root:in call_command_code:\n",
      "\tcommand: C010\n",
      "\t anwser: A010 0 0 0 2\n"
     ]
    },
    {
     "data": {
      "text/plain": [
       "([0, 0, 0], [2])"
      ]
     },
     "execution_count": 5,
     "metadata": {},
     "output_type": "execute_result"
    }
   ],
   "source": [
    "# im.position_query_in_micrometers()\n",
    "\n",
    "im.query_program_version()\n",
    "im.switch_to_manual_control()\n",
    "\n",
    "im.query_program_version()\n",
    "im.switch_to_manual_control()\n",
    "# im.trigger_short_acoustic_signals(3)\n",
    "im.position_query_in_micrometers()\n"
   ]
  },
  {
   "cell_type": "code",
   "execution_count": 6,
   "metadata": {
    "collapsed": true
   },
   "outputs": [],
   "source": [
    "def flush():\n",
    "    print('flushing...')\n",
    "    for i in range(5):\n",
    "        t1 = time.time()\n",
    "        print(im.serial_connection.readline())\n",
    "        t2 = time.time()\n",
    "        print(f\"time: {t2-t1} s\")\n",
    "    time.sleep(0.5)"
   ]
  },
  {
   "cell_type": "code",
   "execution_count": 7,
   "metadata": {
    "collapsed": false
   },
   "outputs": [
    {
     "name": "stdout",
     "output_type": "stream",
     "text": [
      "flushing...\n",
      "\n",
      "time: 0.10000014305114746 s\n",
      "\n",
      "time: 0.10000014305114746 s\n",
      "\n",
      "time: 0.10000014305114746 s\n",
      "\n",
      "time: 0.10000014305114746 s\n",
      "\n",
      "time: 0.10000014305114746 s\n"
     ]
    },
    {
     "name": "stderr",
     "output_type": "stream",
     "text": [
      "DEBUG:root:in send_command_serial(): sending \"c100\" to serial on port COM1.\n",
      "DEBUG:root:In send_string(): Encoded string: b'c100\\n'\n",
      "DEBUG:root:in send_command_serial(): sending \"B1\" to serial on port COM1.\n",
      "DEBUG:root:In send_string(): Encoded string: b'B1\\n'\n",
      "DEBUG:root:Answer is: bytearray(b'\\rERR 079\\n')\n",
      "DEBUG:root:Answer decoded and stripped: \"ERR 079\"\n",
      "DEBUG:root:in call_command_code:\n",
      "\tcommand: B1\n",
      "\t anwser: ERR 079\n",
      "DEBUG:root:in send_command_serial(): sending \"B2\" to serial on port COM1.\n",
      "DEBUG:root:In send_string(): Encoded string: b'B2\\n'\n",
      "DEBUG:root:Answer is: bytearray(b'\\rERR 077\\n')\n",
      "DEBUG:root:Answer decoded and stripped: \"ERR 077\"\n",
      "DEBUG:root:in call_command_code:\n",
      "\tcommand: B2\n",
      "\t anwser: ERR 077\n",
      "DEBUG:root:in send_command_serial(): sending \"B3\" to serial on port COM1.\n",
      "DEBUG:root:In send_string(): Encoded string: b'B3\\n'\n",
      "DEBUG:root:Answer is: bytearray(b'\\rERR 077\\n')\n",
      "DEBUG:root:Answer decoded and stripped: \"ERR 077\"\n",
      "DEBUG:root:in call_command_code:\n",
      "\tcommand: B3\n",
      "\t anwser: ERR 077\n",
      "DEBUG:root:in send_command_serial(): sending \"B4\" to serial on port COM1.\n",
      "DEBUG:root:In send_string(): Encoded string: b'B4\\n'\n",
      "DEBUG:root:Answer is: bytearray(b'\\rERR 077\\n')\n",
      "DEBUG:root:Answer decoded and stripped: \"ERR 077\"\n",
      "DEBUG:root:in call_command_code:\n",
      "\tcommand: B4\n",
      "\t anwser: ERR 077\n",
      "DEBUG:root:in send_command_serial(): sending \"B5\" to serial on port COM1.\n",
      "DEBUG:root:In send_string(): Encoded string: b'B5\\n'\n",
      "DEBUG:root:Answer is: bytearray(b'\\rERR 077\\n')\n",
      "DEBUG:root:Answer decoded and stripped: \"ERR 077\"\n",
      "DEBUG:root:in call_command_code:\n",
      "\tcommand: B5\n",
      "\t anwser: ERR 077\n",
      "DEBUG:root:in send_command_serial(): sending \"B6\" to serial on port COM1.\n",
      "DEBUG:root:In send_string(): Encoded string: b'B6\\n'\n",
      "DEBUG:root:Answer is: bytearray(b'\\rERR 077\\n')\n",
      "DEBUG:root:Answer decoded and stripped: \"ERR 077\"\n",
      "DEBUG:root:in call_command_code:\n",
      "\tcommand: B6\n",
      "\t anwser: ERR 077\n",
      "DEBUG:root:in send_command_serial(): sending \"B7\" to serial on port COM1.\n",
      "DEBUG:root:In send_string(): Encoded string: b'B7\\n'\n",
      "DEBUG:root:Answer is: bytearray(b'\\rERR 077\\n')\n",
      "DEBUG:root:Answer decoded and stripped: \"ERR 077\"\n",
      "DEBUG:root:in call_command_code:\n",
      "\tcommand: B7\n",
      "\t anwser: ERR 077\n",
      "DEBUG:root:in send_command_serial(): sending \"B8\" to serial on port COM1.\n",
      "DEBUG:root:In send_string(): Encoded string: b'B8\\n'\n",
      "DEBUG:root:Answer is: bytearray(b'\\rERR 077\\n')\n",
      "DEBUG:root:Answer decoded and stripped: \"ERR 077\"\n",
      "DEBUG:root:in call_command_code:\n",
      "\tcommand: B8\n",
      "\t anwser: ERR 077\n",
      "DEBUG:root:in send_command_serial(): sending \"B9\" to serial on port COM1.\n",
      "DEBUG:root:In send_string(): Encoded string: b'B9\\n'\n",
      "DEBUG:root:Answer is: bytearray(b'\\rERR 077\\n')\n",
      "DEBUG:root:Answer decoded and stripped: \"ERR 077\"\n",
      "DEBUG:root:in call_command_code:\n",
      "\tcommand: B9\n",
      "\t anwser: ERR 077\n"
     ]
    }
   ],
   "source": [
    "flush()\n",
    "im.send_command_serial('c100', wait_for_answer=False)\n",
    "# im.send_command_serial('c200', wait_for_answer=False)\n",
    "for i in range(1, 10):\n",
    "    im.call_command_code(f'B{i}')"
   ]
  },
  {
   "cell_type": "code",
   "execution_count": 73,
   "metadata": {
    "collapsed": true
   },
   "outputs": [],
   "source": [
    "im.close_serial()"
   ]
  },
  {
   "cell_type": "code",
   "execution_count": 41,
   "metadata": {
    "collapsed": false
   },
   "outputs": [
    {
     "name": "stderr",
     "output_type": "stream",
     "text": [
      "DEBUG:root:in send_command_serial(): sending \"C003\" to serial on port COM1.\n",
      "DEBUG:root:In send_string(): Encoded string: b'C003\\n'\n",
      "DEBUG:root:In send_string(): Raw answer: bytearray(b'\\rA003\\n') type: <class 'bytearray'>\n",
      "DEBUG:root:Answer is: bytearray(b'\\rA003\\n')\n",
      "DEBUG:root:Answer decoded and stripped: \"A003\"\n",
      "DEBUG:root:in call_command_code:\n",
      "\tcommand: C003\n",
      "\t anwser: A003\n"
     ]
    },
    {
     "data": {
      "text/plain": [
       "'A003'"
      ]
     },
     "execution_count": 41,
     "metadata": {},
     "output_type": "execute_result"
    }
   ],
   "source": [
    "im.reset_motor_control()\n"
   ]
  },
  {
   "cell_type": "code",
   "execution_count": 18,
   "metadata": {
    "collapsed": false
   },
   "outputs": [
    {
     "name": "stdout",
     "output_type": "stream",
     "text": [
      "flushing...\n",
      "\n",
      "time: 0.1000056266784668 s\n",
      "\n",
      "time: 0.1000056266784668 s\n",
      "\n",
      "time: 0.1000058650970459 s\n",
      "\n",
      "time: 0.1000056266784668 s\n",
      "\n",
      "time: 0.1000058650970459 s\n"
     ]
    }
   ],
   "source": [
    "flush()"
   ]
  },
  {
   "cell_type": "code",
   "execution_count": 57,
   "metadata": {
    "collapsed": false
   },
   "outputs": [
    {
     "name": "stdout",
     "output_type": "stream",
     "text": [
      "\r",
      "([3967, 1349, 1483], [32])\t (i = 0)\t dt = 0.0200\t 0.02000117301940918"
     ]
    }
   ],
   "source": [
    "logging.getLogger().setLevel(logging.INFO)\n",
    "\n",
    "    \n",
    "n = 1\n",
    "t0 = time.time()\n",
    "t = time.time()\n",
    "for i in range(n):\n",
    "    d = im.position_query_in_micrometers()\n",
    "    print(f'\\r{d}\\t (i = {i})\\t dt = {time.time() - t:.4f}\\t {time.time() - t0}', end='')\n",
    "    t = time.time()\n",
    "    time.sleep(0.2)\n",
    "    \n",
    "logging.getLogger().setLevel(logging.DEBUG)"
   ]
  },
  {
   "cell_type": "code",
   "execution_count": 58,
   "metadata": {
    "collapsed": false
   },
   "outputs": [
    {
     "name": "stdout",
     "output_type": "stream",
     "text": [
      "3967 1483\n"
     ]
    },
    {
     "ename": "ValueError",
     "evalue": "math domain error",
     "output_type": "error",
     "traceback": [
      "\u001b[1;31m---------------------------------------------------------------------------\u001b[0m",
      "\u001b[1;31mValueError\u001b[0m                                Traceback (most recent call last)",
      "Input \u001b[1;32mIn [58]\u001b[0m, in \u001b[0;36m<cell line: 5>\u001b[1;34m()\u001b[0m\n\u001b[0;32m      3\u001b[0m a, y, c \u001b[38;5;241m=\u001b[39m d_pos\n\u001b[0;32m      4\u001b[0m \u001b[38;5;28mprint\u001b[39m(a, c)\n\u001b[1;32m----> 5\u001b[0m \u001b[38;5;28mprint\u001b[39m(\u001b[43mmath\u001b[49m\u001b[38;5;241;43m.\u001b[39;49m\u001b[43msqrt\u001b[49m\u001b[43m(\u001b[49m\u001b[43mc\u001b[49m\u001b[38;5;241;43m*\u001b[39;49m\u001b[38;5;241;43m*\u001b[39;49m\u001b[38;5;241;43m2\u001b[39;49m\u001b[43m \u001b[49m\u001b[38;5;241;43m-\u001b[39;49m\u001b[43m \u001b[49m\u001b[43ma\u001b[49m\u001b[38;5;241;43m*\u001b[39;49m\u001b[38;5;241;43m*\u001b[39;49m\u001b[38;5;241;43m2\u001b[39;49m\u001b[43m)\u001b[49m)\n",
      "\u001b[1;31mValueError\u001b[0m: math domain error"
     ]
    }
   ],
   "source": [
    "import math\n",
    "d_pos, lim = d\n",
    "a, y, c = d_pos\n",
    "print(a, c)\n",
    "print(math.sqrt(c**2 - a**2))"
   ]
  },
  {
   "cell_type": "code",
   "execution_count": 59,
   "metadata": {
    "collapsed": false
   },
   "outputs": [
    {
     "name": "stdout",
     "output_type": "stream",
     "text": [
      "p =  (2830.9897795204733, 1349, 953.2686250562449)\n",
      "d_pos: [3967, 1349, 1483]\n",
      "d_test: (3967.0, 1349, 1483.0)\n"
     ]
    }
   ],
   "source": [
    "d1_calib = 11917\n",
    "d3_calib = 15557\n",
    "z_calib = 1e4\n",
    "sin_theta = d1_calib/d3_calib\n",
    "cos_theta = z_calib/d3_calib\n",
    "\n",
    "\n",
    "def d2p(d):\n",
    "    d1, d2, d3 = d\n",
    "    \n",
    "    x = d1 - d3*sin_theta\n",
    "    y = d2\n",
    "    z = d3*cos_theta\n",
    "        \n",
    "    p = x, y, z\n",
    "    return p\n",
    "\n",
    "def p2d(p):\n",
    "    x, y, z = p\n",
    "    \n",
    "    d3 = z/cos_theta\n",
    "    d1 = x + d3*sin_theta\n",
    "    d2 = y\n",
    "    \n",
    "    \n",
    "    d = d1, d2, d3\n",
    "    return d\n",
    "\n",
    "p = d2p(d_pos)\n",
    "print('p = ', p)\n",
    "d_test = p2d(p)\n",
    "print('d_pos:', d_pos)\n",
    "print('d_test:', d_test)"
   ]
  },
  {
   "cell_type": "code",
   "execution_count": 152,
   "metadata": {
    "collapsed": false
   },
   "outputs": [
    {
     "name": "stderr",
     "output_type": "stream",
     "text": [
      "DEBUG:root:call_command_code(): code: C004 parameters_str: \n",
      "DEBUG:root:in send_command_serial(): sending \"C004\" to serial on port COM1.\n",
      "DEBUG:root:In send_string(): Encoded string: b'C004\\n'\n",
      "DEBUG:root:In send_string(): Raw answer: bytearray(b'A004\\n') type: <class 'bytearray'>\n",
      "DEBUG:root:Answer is: bytearray(b'A004\\n')\n",
      "DEBUG:root:Answer decoded and stripped: \"A004\"\n",
      "DEBUG:root:in call_command_code:\n",
      "\tcommand: C004\n",
      "\t anwser: A004\n"
     ]
    },
    {
     "data": {
      "text/plain": [
       "'A004'"
      ]
     },
     "execution_count": 152,
     "metadata": {},
     "output_type": "execute_result"
    }
   ],
   "source": [
    "im.switch_to_remote_control()\n"
   ]
  },
  {
   "cell_type": "code",
   "execution_count": 64,
   "metadata": {
    "collapsed": false,
    "scrolled": false
   },
   "outputs": [
    {
     "name": "stdout",
     "output_type": "stream",
     "text": [
      "flushing...\n",
      "\n",
      "time: 0.1000058650970459 s\n",
      "\n",
      "time: 0.1000056266784668 s\n",
      "\n",
      "time: 0.1000058650970459 s\n",
      "\n",
      "time: 0.1000056266784668 s\n",
      "\n",
      "time: 0.1000056266784668 s\n"
     ]
    },
    {
     "name": "stderr",
     "output_type": "stream",
     "text": [
      "DEBUG:root:in send_command_serial(): sending \"C007 100 10 0 10 10 10\" to serial on port COM1.\n",
      "DEBUG:root:In send_string(): Encoded string: b'C007 100 10 0 10 10 10\\n'\n",
      "DEBUG:root:In send_string(): Raw answer: bytearray(b'\\rA007 0\\n') type: <class 'bytearray'>\n",
      "DEBUG:root:Answer is: bytearray(b'\\rA007 0\\n')\n",
      "DEBUG:root:Answer decoded and stripped: \"A007 0\"\n",
      "DEBUG:root:in call_command_code:\n",
      "\tcommand: C007 100 10 0 10 10 10\n",
      "\t anwser: A007 0\n"
     ]
    },
    {
     "data": {
      "text/plain": [
       "'A007 0'"
      ]
     },
     "execution_count": 64,
     "metadata": {},
     "output_type": "execute_result"
    }
   ],
   "source": [
    "logging.getLogger().setLevel(logging.DEBUG)\n",
    "flush()\n",
    "\n",
    "p = [46, -50, 47]\n",
    "p = [100, 10, 0]\n",
    "# p = [0, 0, 0]\n",
    "im.call_command_code(f'C007 {p[0]} {p[1]} {p[2]} 10 10 10')"
   ]
  },
  {
   "cell_type": "code",
   "execution_count": 144,
   "metadata": {
    "collapsed": true
   },
   "outputs": [],
   "source": [
    "im."
   ]
  },
  {
   "cell_type": "code",
   "execution_count": 150,
   "metadata": {
    "collapsed": false
   },
   "outputs": [
    {
     "name": "stdout",
     "output_type": "stream",
     "text": [
      "flushing...\n",
      "\n",
      "time: 0.100006103515625 s\n",
      "\n",
      "time: 0.1000056266784668 s\n",
      "\n",
      "time: 0.1000058650970459 s\n",
      "\n",
      "time: 0.1000056266784668 s\n",
      "\n",
      "time: 0.1000056266784668 s\n"
     ]
    },
    {
     "name": "stderr",
     "output_type": "stream",
     "text": [
      "DEBUG:root:call_command_code(): code: C012 parameters_str:  100 10 0 10 10 10\n",
      "DEBUG:root:in send_command_serial(): sending \"C012 100 10 0 10 10 10\" to serial on port COM1.\n",
      "DEBUG:root:In send_string(): Encoded string: b'C012 100 10 0 10 10 10\\n'\n",
      "DEBUG:root:In send_string(): Raw answer: bytearray(b'\\rA012\\n') type: <class 'bytearray'>\n",
      "DEBUG:root:Answer is: bytearray(b'\\rA012\\n')\n",
      "DEBUG:root:Answer decoded and stripped: \"A012\"\n",
      "DEBUG:root:in call_command_code:\n",
      "\tcommand: C012 100 10 0 10 10 10\n",
      "\t anwser: A012\n",
      "DEBUG:root:call_command_code(): code: C014 parameters_str:  3\n",
      "DEBUG:root:in send_command_serial(): sending \"C014 3\" to serial on port COM1.\n",
      "DEBUG:root:In send_string(): Encoded string: b'C014 3\\n'\n",
      "DEBUG:root:In send_string(): Raw answer: bytearray(b'\\rA014\\n') type: <class 'bytearray'>\n",
      "DEBUG:root:Answer is: bytearray(b'\\rA014\\n')\n",
      "DEBUG:root:Answer decoded and stripped: \"A014\"\n",
      "DEBUG:root:in call_command_code:\n",
      "\tcommand: C014 3\n",
      "\t anwser: A014\n"
     ]
    },
    {
     "data": {
      "text/plain": [
       "'A014'"
      ]
     },
     "execution_count": 150,
     "metadata": {},
     "output_type": "execute_result"
    }
   ],
   "source": [
    "flush()\n",
    "\n",
    "p = [46, -50, 47]\n",
    "p = [100, 10, 0]\n",
    "speed_limits = [10 for i in range(3)]\n",
    "\n",
    "\n",
    "# im.GOTO_position_in_micrometers(*p, *speed_limits)\n",
    "im.GOTO_position_in_micrometers_NB(*p, *speed_limits)\n",
    "im.trigger_short_acoustic_signals(3)\n"
   ]
  },
  {
   "cell_type": "code",
   "execution_count": 177,
   "metadata": {
    "collapsed": false
   },
   "outputs": [
    {
     "name": "stderr",
     "output_type": "stream",
     "text": [
      "DEBUG:root:call_command_code(): code: C012 parameters_str:  100 10 0 10 10 10\n",
      "DEBUG:root:in send_command_serial(): sending \"C012 100 10 0 10 10 10\" to serial on port COM1.\n",
      "DEBUG:root:In send_string(): Encoded string: b'C012 100 10 0 10 10 10\\n'\n",
      "DEBUG:root:In send_string(): Raw answer: bytearray(b'\\rA012\\n') type: <class 'bytearray'>\n",
      "DEBUG:root:Answer is: bytearray(b'\\rA012\\n')\n",
      "DEBUG:root:Answer decoded and stripped: \"A012\"\n",
      "DEBUG:root:in call_command_code:\n",
      "\tcommand: C012 100 10 0 10 10 10\n",
      "\t anwser: A012\n"
     ]
    }
   ],
   "source": [
    "v = 10\n",
    "p = [0, 0, 0]\n",
    "p = [100, 10, 0]\n",
    "\n",
    "im.move_to(p, v, wait_for_completion=False)\n",
    "beep()"
   ]
  },
  {
   "cell_type": "code",
   "execution_count": 236,
   "metadata": {
    "collapsed": false
   },
   "outputs": [
    {
     "name": "stdout",
     "output_type": "stream",
     "text": [
      "it took 27.177554845809937 s\n"
     ]
    },
    {
     "data": {
      "text/plain": [
       "'A007 0'"
      ]
     },
     "execution_count": 236,
     "metadata": {},
     "output_type": "execute_result"
    }
   ],
   "source": [
    "import numpy as np\n",
    "\n",
    "'''\n",
    "Erik left off (3.8.22):\n",
    "Example:\n",
    "This cell draws a circle (on a piece of paper). It starts above, goes down, \n",
    "draws a circle and moves back up. You can tweak the parameters of the movement.\n",
    "\n",
    "This is kind of a bench mark on sthe state of how the injectman can be controlled.\n",
    "\n",
    "This is probably also the last step on the macro scale\n",
    "\n",
    "'''\n",
    "\n",
    "logging.getLogger().setLevel(logging.INFO)\n",
    "\n",
    "wait_for_completion = 1\n",
    "if wait_for_completion:\n",
    "    delay_time = 0\n",
    "else:\n",
    "    delay_time = 0.17\n",
    "\n",
    "    \n",
    "N = 130\n",
    "r = 8000\n",
    "v = 7500\n",
    "\n",
    "offset = [0, 8000, 0]\n",
    "xo, yo, zo = offset\n",
    "\n",
    "im.move_to([0+xo, 0+yo, -4000+zo], v, wait_for_completion=True)\n",
    "im.move_to([0+xo, 0+yo, 0+zo], v, wait_for_completion=True)\n",
    "\n",
    "t0 = time.time()\n",
    "\n",
    "for i in range(N):\n",
    "    \n",
    "    delta = i/N\n",
    "    x = r*np.sin(2*np.pi*delta)\n",
    "    y = r*np.cos(2*np.pi*delta) - r\n",
    "    z = 0\n",
    "    \n",
    "    \n",
    "    p = [x+xo, y+yo, z+zo]\n",
    "    im.move_to(p, v, wait_for_completion=wait_for_completion)\n",
    "#     beep()\n",
    "    time.sleep(delay_time)\n",
    "    \n",
    "    \n",
    "\n",
    "t1 = time.time()\n",
    "print(f'it took {t1-t0} s')\n",
    "im.move_to([0+xo, 0+yo, -4000+zo], v, wait_for_completion=True)\n",
    "    "
   ]
  },
  {
   "cell_type": "code",
   "execution_count": 216,
   "metadata": {
    "collapsed": false
   },
   "outputs": [
    {
     "data": {
      "text/plain": [
       "'A003'"
      ]
     },
     "execution_count": 216,
     "metadata": {},
     "output_type": "execute_result"
    }
   ],
   "source": [
    "# im.move_to([0, 0, 0], v, wait_for_completion=True)\n",
    "im.switch_to_remote_control()\n",
    "im.reset_motor_control()"
   ]
  },
  {
   "cell_type": "code",
   "execution_count": 215,
   "metadata": {
    "collapsed": false
   },
   "outputs": [
    {
     "data": {
      "text/plain": [
       "'A005'"
      ]
     },
     "execution_count": 215,
     "metadata": {},
     "output_type": "execute_result"
    }
   ],
   "source": [
    "im.switch_to_manual_control()"
   ]
  },
  {
   "cell_type": "markdown",
   "metadata": {},
   "source": [
    "# General code testing -------------------------------------------"
   ]
  },
  {
   "cell_type": "code",
   "execution_count": 12,
   "metadata": {
    "collapsed": false
   },
   "outputs": [
    {
     "name": "stdout",
     "output_type": "stream",
     "text": [
      "[1, 2, 3]\n",
      "1 2 3\n"
     ]
    }
   ],
   "source": [
    "def my_func(*args):\n",
    "    args = [str(x) for x in args]\n",
    "    return f'{\" \".join(args)}'\n",
    "    \n",
    "    \n",
    "    \n",
    "my_func(1, 2, 3, 'f')\n",
    "          \n",
    "a = [1, 2, 3]\n",
    "print(a)\n",
    "print(*a)\n",
    "    "
   ]
  },
  {
   "cell_type": "code",
   "execution_count": 66,
   "metadata": {
    "collapsed": false
   },
   "outputs": [
    {
     "name": "stdout",
     "output_type": "stream",
     "text": [
      "->C006<-\n",
      "->C005 10 11 12<-\n"
     ]
    }
   ],
   "source": [
    "def make_string_command(code, *args):\n",
    "    # Transform numbers into strings\n",
    "    args = [str(x) for x in args]\n",
    "    \n",
    "    # Make string of parameters\n",
    "    parameters_str = \" \" if len(args) > 0 else \"\"\n",
    "    parameters_str += \" \".join(args)\n",
    "    \n",
    "    # Put it all together\n",
    "    command_string = f'C{code:03}{parameters_str}'\n",
    "    return command_string\n",
    "\n",
    "c_s = make_string_command(6)\n",
    "print(f'->{c_s}<-')\n",
    "\n",
    "c_s = make_string_command(5, 10, 11, 12)\n",
    "print(f'->{c_s}<-')"
   ]
  },
  {
   "cell_type": "code",
   "execution_count": 72,
   "metadata": {
    "collapsed": false
   },
   "outputs": [
    {
     "name": "stderr",
     "output_type": "stream",
     "text": [
      "DEBUG:root:_code_and_parameters_to_string(): code: 1 parameters_str:  2 3\n",
      "DEBUG:root:_code_and_parameters_to_string(): code: 97884 parameters_str: \n",
      "DEBUG:root:_code_and_parameters_to_string(): code: 9 parameters_str:  8 7 6 543 23\n"
     ]
    },
    {
     "name": "stdout",
     "output_type": "stream",
     "text": [
      "C001 2 3\n",
      "C97884\n",
      "C009 8 7 6 543 23\n"
     ]
    }
   ],
   "source": [
    "print(im._code_and_parameters_to_string(1, 2, 3))\n",
    "\n",
    "print(im._code_and_parameters_to_string(97884))\n",
    "print(im._code_and_parameters_to_string(9,8,7,6,543,23))"
   ]
  },
  {
   "cell_type": "code",
   "execution_count": 86,
   "metadata": {
    "collapsed": false,
    "scrolled": false
   },
   "outputs": [
    {
     "name": "stderr",
     "output_type": "stream",
     "text": [
      "DEBUG:root:in send_command_serial(): sending \"C014 1\" to serial on port COM1.\n",
      "DEBUG:root:In send_string(): Encoded string: b'C014 1\\n'\n",
      "DEBUG:root:In send_string(): Raw answer: bytearray(b'\\rA014\\n') type: <class 'bytearray'>\n",
      "DEBUG:root:Answer is: bytearray(b'\\rA014\\n')\n",
      "DEBUG:root:Answer decoded and stripped: \"A014\"\n",
      "DEBUG:root:in call_command_code:\n",
      "\tcommand: C014 1\n",
      "\t anwser: A014\n",
      "DEBUG:root:call_command_code(): code: C014 parameters_str:  1 2\n",
      "DEBUG:root:in send_command_serial(): sending \"C014 1 2\" to serial on port COM1.\n",
      "DEBUG:root:In send_string(): Encoded string: b'C014 1 2\\n'\n",
      "DEBUG:root:In send_string(): Raw answer: bytearray(b'\\rERR 070\\n') type: <class 'bytearray'>\n",
      "DEBUG:root:Answer is: bytearray(b'\\rERR 070\\n')\n",
      "DEBUG:root:Answer decoded and stripped: \"ERR 070\"\n",
      "DEBUG:root:in call_command_code:\n",
      "\tcommand: C014 1 2\n",
      "\t anwser: ERR 070\n",
      "DEBUG:root:call_command_code(): code: C014 parameters_str: \n",
      "DEBUG:root:in send_command_serial(): sending \"C014\" to serial on port COM1.\n",
      "DEBUG:root:In send_string(): Encoded string: b'C014\\n'\n",
      "DEBUG:root:In send_string(): Raw answer: bytearray(b'\\rERR 070\\n') type: <class 'bytearray'>\n",
      "DEBUG:root:Answer is: bytearray(b'\\rERR 070\\n')\n",
      "DEBUG:root:Answer decoded and stripped: \"ERR 070\"\n",
      "DEBUG:root:in call_command_code:\n",
      "\tcommand: C014\n",
      "\t anwser: ERR 070\n",
      "DEBUG:root:call_command_code(): code: C014 parameters_str:  3\n",
      "DEBUG:root:in send_command_serial(): sending \"C014 3\" to serial on port COM1.\n",
      "DEBUG:root:In send_string(): Encoded string: b'C014 3\\n'\n",
      "DEBUG:root:In send_string(): Raw answer: bytearray(b'\\rA014\\n') type: <class 'bytearray'>\n",
      "DEBUG:root:Answer is: bytearray(b'\\rA014\\n')\n",
      "DEBUG:root:Answer decoded and stripped: \"A014\"\n",
      "DEBUG:root:in call_command_code:\n",
      "\tcommand: C014 3\n",
      "\t anwser: A014\n"
     ]
    },
    {
     "name": "stdout",
     "output_type": "stream",
     "text": [
      "Unexpected exception formatting exception. Falling back to standard exception\n"
     ]
    },
    {
     "name": "stderr",
     "output_type": "stream",
     "text": [
      "Traceback (most recent call last):\n",
      "  File \"C:\\Users\\brugueslab\\AppData\\Local\\pypoetry\\Cache\\virtualenvs\\magnetictweezers-qIRZemfC-py3.8\\lib\\site-packages\\IPython\\core\\interactiveshell.py\", line 3398, in run_code\n",
      "    exec(code_obj, self.user_global_ns, self.user_ns)\n",
      "  File \"C:\\Users\\brugueslab\\AppData\\Local\\Temp\\ipykernel_5836\\3034029235.py\", line 5, in <cell line: 5>\n",
      "    im.call_command_code(14, 'f')\n",
      "  File \"C:\\Users\\brugueslab\\MagneticTweezer_2022\\V05_Folder\\magnetic_tweezers_brugueslab\\python\\dev\\InjectMan\\inject_man.py\", line 312, in call_command_code\n",
      "    parameters = [str(int(x)) for x in parameters]\n",
      "  File \"C:\\Users\\brugueslab\\MagneticTweezer_2022\\V05_Folder\\magnetic_tweezers_brugueslab\\python\\dev\\InjectMan\\inject_man.py\", line 312, in <listcomp>\n",
      "    parameters = [str(int(x)) for x in parameters]\n",
      "ValueError: invalid literal for int() with base 10: 'f'\n",
      "\n",
      "During handling of the above exception, another exception occurred:\n",
      "\n",
      "Traceback (most recent call last):\n",
      "  File \"C:\\Users\\brugueslab\\AppData\\Local\\pypoetry\\Cache\\virtualenvs\\magnetictweezers-qIRZemfC-py3.8\\lib\\site-packages\\IPython\\core\\interactiveshell.py\", line 1993, in showtraceback\n",
      "    stb = self.InteractiveTB.structured_traceback(\n",
      "  File \"C:\\Users\\brugueslab\\AppData\\Local\\pypoetry\\Cache\\virtualenvs\\magnetictweezers-qIRZemfC-py3.8\\lib\\site-packages\\IPython\\core\\ultratb.py\", line 1118, in structured_traceback\n",
      "    return FormattedTB.structured_traceback(\n",
      "  File \"C:\\Users\\brugueslab\\AppData\\Local\\pypoetry\\Cache\\virtualenvs\\magnetictweezers-qIRZemfC-py3.8\\lib\\site-packages\\IPython\\core\\ultratb.py\", line 1012, in structured_traceback\n",
      "    return VerboseTB.structured_traceback(\n",
      "  File \"C:\\Users\\brugueslab\\AppData\\Local\\pypoetry\\Cache\\virtualenvs\\magnetictweezers-qIRZemfC-py3.8\\lib\\site-packages\\IPython\\core\\ultratb.py\", line 865, in structured_traceback\n",
      "    formatted_exception = self.format_exception_as_a_whole(etype, evalue, etb, number_of_lines_of_context,\n",
      "  File \"C:\\Users\\brugueslab\\AppData\\Local\\pypoetry\\Cache\\virtualenvs\\magnetictweezers-qIRZemfC-py3.8\\lib\\site-packages\\IPython\\core\\ultratb.py\", line 818, in format_exception_as_a_whole\n",
      "    frames.append(self.format_record(r))\n",
      "  File \"C:\\Users\\brugueslab\\AppData\\Local\\pypoetry\\Cache\\virtualenvs\\magnetictweezers-qIRZemfC-py3.8\\lib\\site-packages\\IPython\\core\\ultratb.py\", line 736, in format_record\n",
      "    result += ''.join(_format_traceback_lines(frame_info.lines, Colors, self.has_colors, lvals))\n",
      "  File \"C:\\Users\\brugueslab\\AppData\\Local\\pypoetry\\Cache\\virtualenvs\\magnetictweezers-qIRZemfC-py3.8\\lib\\site-packages\\stack_data\\utils.py\", line 145, in cached_property_wrapper\n",
      "    value = obj.__dict__[self.func.__name__] = self.func(obj)\n",
      "  File \"C:\\Users\\brugueslab\\AppData\\Local\\pypoetry\\Cache\\virtualenvs\\magnetictweezers-qIRZemfC-py3.8\\lib\\site-packages\\stack_data\\core.py\", line 698, in lines\n",
      "    pieces = self.included_pieces\n",
      "  File \"C:\\Users\\brugueslab\\AppData\\Local\\pypoetry\\Cache\\virtualenvs\\magnetictweezers-qIRZemfC-py3.8\\lib\\site-packages\\stack_data\\utils.py\", line 145, in cached_property_wrapper\n",
      "    value = obj.__dict__[self.func.__name__] = self.func(obj)\n",
      "  File \"C:\\Users\\brugueslab\\AppData\\Local\\pypoetry\\Cache\\virtualenvs\\magnetictweezers-qIRZemfC-py3.8\\lib\\site-packages\\stack_data\\core.py\", line 649, in included_pieces\n",
      "    pos = scope_pieces.index(self.executing_piece)\n",
      "  File \"C:\\Users\\brugueslab\\AppData\\Local\\pypoetry\\Cache\\virtualenvs\\magnetictweezers-qIRZemfC-py3.8\\lib\\site-packages\\stack_data\\utils.py\", line 145, in cached_property_wrapper\n",
      "    value = obj.__dict__[self.func.__name__] = self.func(obj)\n",
      "  File \"C:\\Users\\brugueslab\\AppData\\Local\\pypoetry\\Cache\\virtualenvs\\magnetictweezers-qIRZemfC-py3.8\\lib\\site-packages\\stack_data\\core.py\", line 628, in executing_piece\n",
      "    return only(\n",
      "  File \"C:\\Users\\brugueslab\\AppData\\Local\\pypoetry\\Cache\\virtualenvs\\magnetictweezers-qIRZemfC-py3.8\\lib\\site-packages\\executing\\executing.py\", line 164, in only\n",
      "    raise NotOneValueFound('Expected one value, found 0')\n",
      "executing.executing.NotOneValueFound: Expected one value, found 0\n"
     ]
    }
   ],
   "source": [
    "im.call_command_code('C014 1', 1, 2)\n",
    "im.call_command_code(14, 1, 2)\n",
    "im.call_command_code(14)\n",
    "im.call_command_code(14, '3')\n",
    "im.call_command_code(14, 'f')"
   ]
  },
  {
   "cell_type": "code",
   "execution_count": null,
   "metadata": {
    "collapsed": true
   },
   "outputs": [],
   "source": [
    "im.GOTO_position_in_micrometers()"
   ]
  },
  {
   "cell_type": "code",
   "execution_count": 85,
   "metadata": {
    "collapsed": false
   },
   "outputs": [
    {
     "name": "stdout",
     "output_type": "stream",
     "text": [
      "a: 5\n",
      "a: s\n"
     ]
    }
   ],
   "source": [
    "def testf(a: int):\n",
    "    print('a:', a)\n",
    "    \n",
    "    \n",
    "    \n",
    "testf(5)\n",
    "testf('s')\n",
    "\n",
    "\n",
    "\n",
    "\n",
    "\n",
    "\n"
   ]
  },
  {
   "cell_type": "code",
   "execution_count": 89,
   "metadata": {
    "collapsed": false
   },
   "outputs": [
    {
     "data": {
      "text/plain": [
       "int"
      ]
     },
     "execution_count": 89,
     "metadata": {},
     "output_type": "execute_result"
    }
   ],
   "source": [
    "aaa = 345000\n",
    "type(aaa)"
   ]
  }
 ],
 "metadata": {
  "kernelspec": {
   "display_name": "Magnetic tweezers (Python 3.8)",
   "language": "python",
   "name": "python_magnetic_tweezers"
  },
  "language_info": {
   "codemirror_mode": {
    "name": "ipython",
    "version": 3
   },
   "file_extension": ".py",
   "mimetype": "text/x-python",
   "name": "python",
   "nbconvert_exporter": "python",
   "pygments_lexer": "ipython3",
   "version": "3.8.10"
  }
 },
 "nbformat": 4,
 "nbformat_minor": 5
}
